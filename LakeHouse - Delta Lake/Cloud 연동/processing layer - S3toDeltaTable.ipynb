{
 "cells": [
  {
   "cell_type": "code",
   "execution_count": 14,
   "metadata": {},
   "outputs": [],
   "source": [
    "from pyspark.sql import SparkSession\n",
    "from pyspark.conf import SparkConf\n",
    "\n",
    "# 연결 변수\n",
    "AWS_ACCESS_KEY_ID =\"\"\n",
    "AWS_SECRET_ACCESS_KEY = \"\"\n",
    "AWS_DEFAULT_REGION = \"ap-northeast-2\"\n",
    "\n",
    "# spark session 생성시 aws와 연동하기\n",
    "def aws_connect_spark(AWS_ACCESS_KEY_ID, AWS_SECRET_ACCESS_KEY):\n",
    "    # 설정\n",
    "    conf = (\n",
    "        SparkConf()\n",
    "        .setAppName(\"MY_APP\") # replace with your desired name\n",
    "        .set(\"spark.jars.packages\", \"io.delta:delta-core_2.12:2.3.0,org.apache.hadoop:hadoop-aws:3.3.2\")\n",
    "        .set(\"spark.sql.catalog.spark_catalog\",\"org.apache.spark.sql.delta.catalog.DeltaCatalog\")\n",
    "        .set(\"spark.sql.extensions\", \"io.delta.sql.DeltaSparkSessionExtension\")\n",
    "        .set(\"spark.hadoop.fs.s3a.access.key\", AWS_ACCESS_KEY_ID)\n",
    "        .set(\"spark.hadoop.fs.s3a.secret.key\", AWS_SECRET_ACCESS_KEY)\n",
    "        .set(\"spark.sql.shuffle.partitions\", \"4\") # default is 200 partitions which is too many for local\n",
    "        .setMaster(\"local[*]\") # replace the * with your desired number of cores. * for use all.\n",
    "    )\n",
    "\n",
    "    # spark 생성\n",
    "    spark = SparkSession.builder.config(conf=conf).getOrCreate()\n",
    "    \n",
    "    return spark\n",
    "\n",
    "# S3와 연결된 Spark로부터 해당 s3 table path로부터 Delta Table 가져오기\n",
    "def s3_read_deltatable(spark, delta_table_path, version):\n",
    "    df = spark.read.format(\"delta\").option(\"versionAsOf\", version).load(delta_table_path)\n",
    "    \n",
    "    return df"
   ]
  },
  {
   "cell_type": "code",
   "execution_count": 15,
   "metadata": {},
   "outputs": [],
   "source": [
    "delta_table_path = \"s3a://donghee-deltalake-test/delta-table-quickstart\"\n"
   ]
  },
  {
   "cell_type": "code",
   "execution_count": 21,
   "metadata": {},
   "outputs": [
    {
     "name": "stdout",
     "output_type": "stream",
     "text": [
      "+---+\n",
      "| id|\n",
      "+---+\n",
      "|  2|\n",
      "|  4|\n",
      "|  0|\n",
      "|  3|\n",
      "|  1|\n",
      "+---+\n",
      "\n",
      "+---+\n",
      "| id|\n",
      "+---+\n",
      "| 37|\n",
      "| 35|\n",
      "| 39|\n",
      "| 33|\n",
      "| 36|\n",
      "| 38|\n",
      "| 31|\n",
      "| 32|\n",
      "| 34|\n",
      "| 30|\n",
      "+---+\n",
      "\n",
      "+---+\n",
      "| id|\n",
      "+---+\n",
      "| 37|\n",
      "| 35|\n",
      "| 39|\n",
      "| 33|\n",
      "|138|\n",
      "|136|\n",
      "|130|\n",
      "|132|\n",
      "| 31|\n",
      "|134|\n",
      "+---+\n",
      "\n"
     ]
    }
   ],
   "source": [
    "spark = aws_connect_spark(AWS_ACCESS_KEY_ID, AWS_SECRET_ACCESS_KEY)\n",
    "df0 = s3_read_deltatable(spark, delta_table_path, 0) # Version 0 = Raw Data\n",
    "df1 = s3_read_deltatable(spark, delta_table_path, 1) # Version 1\n",
    "df2 = s3_read_deltatable(spark, delta_table_path, 2) # Version 2\n",
    "df0.show()\n",
    "df1.show()\n",
    "df2.show()"
   ]
  }
 ],
 "metadata": {
  "kernelspec": {
   "display_name": "deltalake1",
   "language": "python",
   "name": "python3"
  },
  "language_info": {
   "codemirror_mode": {
    "name": "ipython",
    "version": 3
   },
   "file_extension": ".py",
   "mimetype": "text/x-python",
   "name": "python",
   "nbconvert_exporter": "python",
   "pygments_lexer": "ipython3",
   "version": "3.8.10"
  }
 },
 "nbformat": 4,
 "nbformat_minor": 2
}
