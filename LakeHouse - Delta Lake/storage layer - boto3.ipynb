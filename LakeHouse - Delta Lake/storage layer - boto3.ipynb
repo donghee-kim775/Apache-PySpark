{
 "cells": [
  {
   "cell_type": "markdown",
   "metadata": {},
   "source": [
    "# S3 연동"
   ]
  },
  {
   "cell_type": "code",
   "execution_count": 39,
   "metadata": {},
   "outputs": [],
   "source": [
    "import boto3\n",
    "\n",
    "# 연결 변수\n",
    "AWS_ACCESS_KEY_ID =\"\"\n",
    "AWS_SECRET_ACCESS_KEY = \"\"\n",
    "AWS_DEFAULT_REGION = \"ap-northeast-2\""
   ]
  },
  {
   "cell_type": "code",
   "execution_count": 40,
   "metadata": {},
   "outputs": [],
   "source": [
    "# s3 Client 연결 함수\n",
    "def s3_client_connection():\n",
    "    try: # s3 Client 생성\n",
    "        s3 = boto3.client(\n",
    "            service_name = \"s3\",\n",
    "            region_name = AWS_DEFAULT_REGION,\n",
    "            aws_access_key_id = AWS_ACCESS_KEY_ID,\n",
    "            aws_secret_access_key = AWS_SECRET_ACCESS_KEY\n",
    "        )\n",
    "    except Exception as e:\n",
    "        print(e)\n",
    "    else:\n",
    "        print(\"s3 bucket connected!\")\n",
    "        return s3\n",
    "    \n",
    "# s3 Resource 연결 함수\n",
    "def s3_resource_connection():\n",
    "    try: # s3 Resource 생성\n",
    "        s3 = boto3.resource(\n",
    "            service_name = \"s3\",\n",
    "            region_name = AWS_DEFAULT_REGION,\n",
    "            aws_access_key_id = AWS_ACCESS_KEY_ID,\n",
    "            aws_secret_access_key = AWS_SECRET_ACCESS_KEY\n",
    "        )\n",
    "    except Exception as e:\n",
    "        print(e)\n",
    "    else:\n",
    "        print(\"s3 bucket connected!\")\n",
    "        return s3\n",
    "    \n",
    "# s3 Session 연결 함수\n",
    "def s3_session_connection():\n",
    "    try: # s3 Resource 생성\n",
    "        session = boto3.Session(\n",
    "            region_name = AWS_DEFAULT_REGION,\n",
    "            aws_access_key_id = AWS_ACCESS_KEY_ID,\n",
    "            aws_secret_access_key = AWS_SECRET_ACCESS_KEY\n",
    "        )\n",
    "    except Exception as e:\n",
    "        print(e)\n",
    "    else:\n",
    "        print(\"s3 bucket connected!\")\n",
    "        return session"
   ]
  },
  {
   "cell_type": "markdown",
   "metadata": {},
   "source": [
    "### Bucket 확인"
   ]
  },
  {
   "cell_type": "code",
   "execution_count": 41,
   "metadata": {},
   "outputs": [
    {
     "name": "stdout",
     "output_type": "stream",
     "text": [
      "s3 bucket connected!\n",
      "donghee-deltalake-test\n",
      "donghee-s3-alldata\n"
     ]
    }
   ],
   "source": [
    "session = s3_session_connection()\n",
    "\n",
    "# s3에 대한 권한 및 상태를 session_s3에 저장\n",
    "session_s3 = session.resource('s3')\n",
    "\n",
    "for bucket in session_s3.buckets.all():\n",
    "    print(bucket.name)"
   ]
  },
  {
   "cell_type": "code",
   "execution_count": 20,
   "metadata": {},
   "outputs": [
    {
     "name": "stdout",
     "output_type": "stream",
     "text": [
      "s3 bucket connected!\n"
     ]
    },
    {
     "data": {
      "text/plain": [
       "{'ResponseMetadata': {'RequestId': 'Z0CV2SKACE7FY0CX',\n",
       "  'HostId': 'hrJfy0Q/xOI0LbSOBtkWzFn8kJ+b+/cC2MSFahdHuHmNzPK7T6L7ldqG3HQcAw9V5JZhtSgkcF8=',\n",
       "  'HTTPStatusCode': 200,\n",
       "  'HTTPHeaders': {'x-amz-id-2': 'hrJfy0Q/xOI0LbSOBtkWzFn8kJ+b+/cC2MSFahdHuHmNzPK7T6L7ldqG3HQcAw9V5JZhtSgkcF8=',\n",
       "   'x-amz-request-id': 'Z0CV2SKACE7FY0CX',\n",
       "   'date': 'Tue, 13 Feb 2024 14:10:32 GMT',\n",
       "   'content-type': 'application/xml',\n",
       "   'transfer-encoding': 'chunked',\n",
       "   'server': 'AmazonS3'},\n",
       "  'RetryAttempts': 0},\n",
       " 'Buckets': [{'Name': 'donghee-deltalake-test',\n",
       "   'CreationDate': datetime.datetime(2024, 2, 6, 19, 56, 11, tzinfo=tzutc())},\n",
       "  {'Name': 'donghee-s3-alldata',\n",
       "   'CreationDate': datetime.datetime(2024, 2, 13, 8, 29, 31, tzinfo=tzutc())}],\n",
       " 'Owner': {'ID': 'e8e06575e9bebe78f523a0fb24cc697097b9c6c8895e313bf77390af8176a617'}}"
      ]
     },
     "execution_count": 20,
     "metadata": {},
     "output_type": "execute_result"
    }
   ],
   "source": [
    "# client 연동\n",
    "client = s3_client_connection()\n",
    "response = client.list_buckets() # bucket 목록\n",
    "response"
   ]
  },
  {
   "cell_type": "markdown",
   "metadata": {},
   "source": [
    "### Bucket Upload / DownLoad 기능"
   ]
  },
  {
   "cell_type": "code",
   "execution_count": 46,
   "metadata": {},
   "outputs": [],
   "source": [
    "# Upload File\n",
    "# local_path : 업로드 하려는 파일의 Local 파일 경로\n",
    "# bucket_name : Upload하고자 할 bucket 이름\n",
    "# key : 버킷 안에서 저장하고자 하는 경로\n",
    "def upload_file(local_path, bucket_name, key):\n",
    "    try:\n",
    "        s3 = s3_resource_connection()\n",
    "        s3.meta.client.upload_file(local_path, bucket_name, key)\n",
    "    except Exception as e:\n",
    "        print(e)\n",
    "    else:\n",
    "        print(\"complete Save File to S3\")\n",
    "\n",
    "# DownLoad File\n",
    "# local_path : 다운로드할 파일 Local 저장 경로\n",
    "# bucket_name : 다운로드하고자 하는 파일이 저장된 bucket 이름\n",
    "# key : 다운로드 하고자 하는 파일이 저장된 버킷안의 경로\n",
    "def donwload_file(local_path, bucket_name, key):\n",
    "    try:\n",
    "        s3 = s3_resource_connection()\n",
    "        bucket = s3.Bucket(bucket_name)\n",
    "        objects = list(bucket.objects.filter(Prefix=key))\n",
    "\n",
    "        if objects and objects[0].key == key:\n",
    "            bucket.download_file(objects[0].key, local_path)\n",
    "    except Exception as e:\n",
    "        print(e)\n",
    "    else:\n",
    "        print(\"complete Save File to S3\")"
   ]
  },
  {
   "cell_type": "code",
   "execution_count": 50,
   "metadata": {},
   "outputs": [],
   "source": [
    "# Parameter\n",
    "bucket_name = \"donghee-s3-alldata\"\n",
    "key = \"csv/totaldf3.csv\"\n",
    "\n",
    "# Upload Parameter\n",
    "Upload_path = \"./data/totaldf3.csv\"\n",
    "\n",
    "# Download Parameter\n",
    "Download_path = \"./data/downloadingtest.csv\""
   ]
  },
  {
   "cell_type": "code",
   "execution_count": 48,
   "metadata": {},
   "outputs": [
    {
     "name": "stdout",
     "output_type": "stream",
     "text": [
      "s3 bucket connected!\n",
      "complete Save File to S3\n"
     ]
    }
   ],
   "source": [
    "# Upload Cell\n",
    "upload_file(Upload_path, bucket_name, key)"
   ]
  },
  {
   "cell_type": "code",
   "execution_count": null,
   "metadata": {},
   "outputs": [],
   "source": [
    "# Download Cell\n",
    "donwload_file(Download_path, bucket_name, key)"
   ]
  },
  {
   "cell_type": "code",
   "execution_count": 70,
   "metadata": {},
   "outputs": [
    {
     "name": "stdout",
     "output_type": "stream",
     "text": [
      "s3 bucket connected!\n"
     ]
    },
    {
     "ename": "TypeError",
     "evalue": "'s3.Bucket.objectsCollectionManager' object is not subscriptable",
     "output_type": "error",
     "traceback": [
      "\u001b[0;31m---------------------------------------------------------------------------\u001b[0m",
      "\u001b[0;31mTypeError\u001b[0m                                 Traceback (most recent call last)",
      "Cell \u001b[0;32mIn[70], line 4\u001b[0m\n\u001b[1;32m      2\u001b[0m s3 \u001b[38;5;241m=\u001b[39m s3_resource_connection()\n\u001b[1;32m      3\u001b[0m bucket \u001b[38;5;241m=\u001b[39m s3\u001b[38;5;241m.\u001b[39mBucket(bucket_name)\n\u001b[0;32m----> 4\u001b[0m \u001b[43mbucket\u001b[49m\u001b[38;5;241;43m.\u001b[39;49m\u001b[43mobjects\u001b[49m\u001b[43m[\u001b[49m\u001b[38;5;241;43m0\u001b[39;49m\u001b[43m]\u001b[49m\u001b[38;5;241m.\u001b[39mkey\n\u001b[1;32m      5\u001b[0m \u001b[38;5;66;03m# objects = list(bucket.objects.filter(Prefix=key))\u001b[39;00m\n",
      "\u001b[0;31mTypeError\u001b[0m: 's3.Bucket.objectsCollectionManager' object is not subscriptable"
     ]
    }
   ],
   "source": [
    "# test cell\n",
    "s3 = s3_resource_connection()\n",
    "bucket = s3.Bucket(bucket_name)\n",
    "bucket.objects[0].key\n",
    "# objects = list(bucket.objects.filter(Prefix=key))\n"
   ]
  }
 ],
 "metadata": {
  "kernelspec": {
   "display_name": "deltalake1",
   "language": "python",
   "name": "python3"
  },
  "language_info": {
   "codemirror_mode": {
    "name": "ipython",
    "version": 3
   },
   "file_extension": ".py",
   "mimetype": "text/x-python",
   "name": "python",
   "nbconvert_exporter": "python",
   "pygments_lexer": "ipython3",
   "version": "3.8.10"
  }
 },
 "nbformat": 4,
 "nbformat_minor": 2
}
