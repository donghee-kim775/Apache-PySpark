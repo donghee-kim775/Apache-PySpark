{
 "cells": [
  {
   "cell_type": "markdown",
   "metadata": {},
   "source": [
    "# Spark Session"
   ]
  },
  {
   "cell_type": "code",
   "execution_count": 1,
   "metadata": {},
   "outputs": [],
   "source": [
    "from pyspark.sql import SparkSession\n",
    "from pyspark.conf import SparkConf\n",
    "\n",
    "# 연결 변수\n",
    "AWS_ACCESS_KEY_ID =\"",
    "AWS_SECRET_ACCESS_KEY = \"",
    "AWS_WAREHOUSE_DIR = \"s3a://donghee-s3-alldata/WareHouse\"\n",
    "AWS_DEFAULT_REGION = \"ap-northeast-2\"\n",
    "\n",
    "# spark session 생성시 aws와 연동하기\n",
    "def aws_connect_spark(AWS_ACCESS_KEY_ID, AWS_SECRET_ACCESS_KEY, AWS_WAREHOUSE_DIR):\n",
    "    # 설정\n",
    "    conf = (\n",
    "        SparkConf()\n",
    "        .setAppName(\"MY_APP\") # replace with your desired name\n",
    "        .set(\"spark.jars.packages\", \"io.delta:delta-spark_2.12:3.1.0,org.apache.hadoop:hadoop-aws:3.3.4\")\n",
    "        .set(\"spark.databricks.delta.retentionDurationCheck.enabled\", \"false\")\n",
    "        .set(\"spark.databricks.delta.properties.defaults.columnMapping.mode\",\"name\") # header 공백 및 특수문자 인식\n",
    "        .set(\"spark.sql.extensions\", \"io.delta.sql.DeltaSparkSessionExtension\") # Deltalake로 Apache Spark 설정\n",
    "        .set(\"spark.sql.catalog.spark_catalog\",\"org.apache.spark.sql.delta.catalog.DeltaCatalog\") # Deltalake로 Apache Spark 설정\n",
    "        .set(\"spark.sql.parquet.columnarReaderBatchSize\", 100) # ?\n",
    "        .set(\"spark.hadoop.fs.s3a.access.key\", AWS_ACCESS_KEY_ID)\n",
    "        .set(\"spark.hadoop.fs.s3a.secret.key\", AWS_SECRET_ACCESS_KEY)\n",
    "        .set(\"spark.hadoop.fs.s3a.impl\", \"org.apache.hadoop.fs.s3a.S3AFileSystem\")\n",
    "        .set(\"spark.sql.warehouse.dir\", AWS_WAREHOUSE_DIR)\n",
    "        .set(\"spark.executor.memory\", \"8g\") # 각 Spark worker의 memory 크기\n",
    "        .set(\"spark.driver.memory\", \"2g\") # Spark Driver의 크기\n",
    "    )\n",
    "\n",
    "    # spark 생성\n",
    "    spark = SparkSession.builder.config(conf=conf).enableHiveSupport().getOrCreate()\n",
    "    \n",
    "    return spark"
   ]
  },
  {
   "cell_type": "code",
   "execution_count": 2,
   "metadata": {},
   "outputs": [
    {
     "name": "stderr",
     "output_type": "stream",
     "text": [
      "24/04/17 00:03:12 WARN Utils: Your hostname, donghee-MS-7C94 resolves to a loopback address: 127.0.1.1; using 192.168.75.133 instead (on interface enp42s0)\n",
      "24/04/17 00:03:12 WARN Utils: Set SPARK_LOCAL_IP if you need to bind to another address\n",
      "Ivy Default Cache set to: /home/donghee/.ivy2/cache\n",
      "The jars for the packages stored in: /home/donghee/.ivy2/jars\n",
      "io.delta#delta-spark_2.12 added as a dependency\n",
      "org.apache.hadoop#hadoop-aws added as a dependency\n",
      ":: resolving dependencies :: org.apache.spark#spark-submit-parent-40721933-5eee-4a5f-a353-48f1df07b709;1.0\n",
      "\tconfs: [default]\n"
     ]
    },
    {
     "name": "stdout",
     "output_type": "stream",
     "text": [
      ":: loading settings :: url = jar:file:/home/donghee/work/deltalakeenv/lib/python3.10/site-packages/pyspark/jars/ivy-2.5.1.jar!/org/apache/ivy/core/settings/ivysettings.xml\n"
     ]
    },
    {
     "name": "stderr",
     "output_type": "stream",
     "text": [
      "\tfound io.delta#delta-spark_2.12;3.1.0 in central\n",
      "\tfound io.delta#delta-storage;3.1.0 in central\n",
      "\tfound org.antlr#antlr4-runtime;4.9.3 in central\n",
      "\tfound org.apache.hadoop#hadoop-aws;3.3.4 in central\n",
      "\tfound com.amazonaws#aws-java-sdk-bundle;1.12.262 in central\n",
      "\tfound org.wildfly.openssl#wildfly-openssl;1.0.7.Final in central\n",
      ":: resolution report :: resolve 161ms :: artifacts dl 11ms\n",
      "\t:: modules in use:\n",
      "\tcom.amazonaws#aws-java-sdk-bundle;1.12.262 from central in [default]\n",
      "\tio.delta#delta-spark_2.12;3.1.0 from central in [default]\n",
      "\tio.delta#delta-storage;3.1.0 from central in [default]\n",
      "\torg.antlr#antlr4-runtime;4.9.3 from central in [default]\n",
      "\torg.apache.hadoop#hadoop-aws;3.3.4 from central in [default]\n",
      "\torg.wildfly.openssl#wildfly-openssl;1.0.7.Final from central in [default]\n",
      "\t---------------------------------------------------------------------\n",
      "\t|                  |            modules            ||   artifacts   |\n",
      "\t|       conf       | number| search|dwnlded|evicted|| number|dwnlded|\n",
      "\t---------------------------------------------------------------------\n",
      "\t|      default     |   6   |   0   |   0   |   0   ||   6   |   0   |\n",
      "\t---------------------------------------------------------------------\n",
      ":: retrieving :: org.apache.spark#spark-submit-parent-40721933-5eee-4a5f-a353-48f1df07b709\n",
      "\tconfs: [default]\n",
      "\t0 artifacts copied, 6 already retrieved (0kB/5ms)\n",
      "24/04/17 00:03:12 WARN NativeCodeLoader: Unable to load native-hadoop library for your platform... using builtin-java classes where applicable\n",
      "Setting default log level to \"WARN\".\n",
      "To adjust logging level use sc.setLogLevel(newLevel). For SparkR, use setLogLevel(newLevel).\n",
      "24/04/17 00:03:15 WARN MetricsConfig: Cannot locate configuration: tried hadoop-metrics2-s3a-file-system.properties,hadoop-metrics2.properties\n"
     ]
    },
    {
     "data": {
      "text/html": [
       "\n",
       "            <div>\n",
       "                <p><b>SparkSession - hive</b></p>\n",
       "                \n",
       "        <div>\n",
       "            <p><b>SparkContext</b></p>\n",
       "\n",
       "            <p><a href=\"http://192.168.75.133:4040\">Spark UI</a></p>\n",
       "\n",
       "            <dl>\n",
       "              <dt>Version</dt>\n",
       "                <dd><code>v3.5.1</code></dd>\n",
       "              <dt>Master</dt>\n",
       "                <dd><code>local[*]</code></dd>\n",
       "              <dt>AppName</dt>\n",
       "                <dd><code>MY_APP</code></dd>\n",
       "            </dl>\n",
       "        </div>\n",
       "        \n",
       "            </div>\n",
       "        "
      ],
      "text/plain": [
       "<pyspark.sql.session.SparkSession at 0x74be00285ea0>"
      ]
     },
     "execution_count": 2,
     "metadata": {},
     "output_type": "execute_result"
    }
   ],
   "source": [
    "spark = aws_connect_spark(AWS_ACCESS_KEY_ID, AWS_SECRET_ACCESS_KEY, AWS_WAREHOUSE_DIR)\n",
    "\n",
    "spark"
   ]
  },
  {
   "cell_type": "markdown",
   "metadata": {},
   "source": [
    "# Data 가져오기"
   ]
  },
  {
   "cell_type": "code",
   "execution_count": 3,
   "metadata": {},
   "outputs": [],
   "source": [
    "import pyspark.sql.functions as F"
   ]
  },
  {
   "cell_type": "code",
   "execution_count": 4,
   "metadata": {},
   "outputs": [],
   "source": [
    "table_path = 's3a://donghee-s3-alldata/Nov_Delta'\n",
    "\n",
    "csv_path = 's3a://donghee-s3-alldata/csv/2019-Nov.csv'"
   ]
  },
  {
   "cell_type": "code",
   "execution_count": 5,
   "metadata": {},
   "outputs": [
    {
     "name": "stdout",
     "output_type": "stream",
     "text": [
      "+--------------------+----------+----------+-------------------+--------------------+--------+------+---------+--------------------+\n",
      "|          event_time|event_type|product_id|        category_id|       category_code|   brand| price|  user_id|        user_session|\n",
      "+--------------------+----------+----------+-------------------+--------------------+--------+------+---------+--------------------+\n",
      "|2019-11-01 00:00:...|      view|   1003461|2053013555631882655|electronics.smart...|  xiaomi|489.07|520088904|4d3b30da-a5e4-49d...|\n",
      "|2019-11-01 00:00:...|      view|   5000088|2053013566100866035|appliances.sewing...|  janome|293.65|530496790|8e5f4f83-366c-4f7...|\n",
      "|2019-11-01 00:00:...|      view|  17302664|2053013553853497655|                NULL|   creed| 28.31|561587266|755422e7-9040-477...|\n",
      "|2019-11-01 00:00:...|      view|   3601530|2053013563810775923|appliances.kitche...|      lg|712.87|518085591|3bfb58cd-7892-48c...|\n",
      "|2019-11-01 00:00:...|      view|   1004775|2053013555631882655|electronics.smart...|  xiaomi|183.27|558856683|313628f1-68b8-460...|\n",
      "|2019-11-01 00:00:...|      view|   1306894|2053013558920217191|  computers.notebook|      hp|360.09|520772685|816a59f3-f5ae-4cc...|\n",
      "|2019-11-01 00:00:...|      view|   1306421|2053013558920217191|  computers.notebook|      hp|514.56|514028527|df8184cc-3694-454...|\n",
      "|2019-11-01 00:00:...|      view|  15900065|2053013558190408249|                NULL| rondell| 30.86|518574284|5e6ef132-4d7c-473...|\n",
      "|2019-11-01 00:00:...|      view|  12708937|2053013553559896355|                NULL|michelin| 72.72|532364121|0a899268-31eb-46d...|\n",
      "|2019-11-01 00:00:...|      view|   1004258|2053013555631882655|electronics.smart...|   apple|732.07|532647354|d2d3d2c6-631d-489...|\n",
      "|2019-11-01 00:00:...|      view|  17200570|2053013559792632471|furniture.living_...|    NULL|437.33|518780843|aa806835-b14c-45a...|\n",
      "|2019-11-01 00:00:...|      view|   2701517|2053013563911439225|appliances.kitche...|    NULL|155.11|518427361|c89b0d96-247f-404...|\n",
      "|2019-11-01 00:00:...|      view|  16700260|2053013559901684381|furniture.kitchen...|    NULL| 31.64|566255262|173d7b72-1db7-463...|\n",
      "|2019-11-01 00:00:...|      view|  34600011|2060981320581906480|                NULL|    NULL| 20.54|512416379|4dfe2c67-e537-4dc...|\n",
      "|2019-11-01 00:00:...|      view|   4600658|2053013563944993659|appliances.kitche...| samsung|411.83|526595547|aab33a9a-29c3-4d5...|\n",
      "|2019-11-01 00:00:...|      view|  24900193|2053013562183385881|                NULL|    NULL|  1.09|512651494|f603c815-f51a-46f...|\n",
      "|2019-11-01 00:00:...|      view|  27400066|2053013563391345499|                NULL|    NULL|  8.55|551061950|3f6112f1-5695-4e8...|\n",
      "|2019-11-01 00:00:...|      view|   5100503|2053013553375346967|                NULL|  xiaomi| 22.68|520037415|f54fa96a-f3f2-43a...|\n",
      "|2019-11-01 00:00:...|      view|   1004566|2053013555631882655|electronics.smart...|  huawei|164.84|566265908|52c2c76c-b79e-479...|\n",
      "|2019-11-01 00:00:...|      view|   1307115|2053013558920217191|  computers.notebook|      hp|411.59|514028527|df8184cc-3694-454...|\n",
      "+--------------------+----------+----------+-------------------+--------------------+--------+------+---------+--------------------+\n",
      "only showing top 20 rows\n",
      "\n"
     ]
    },
    {
     "data": {
      "text/plain": [
       "pyspark.sql.dataframe.DataFrame"
      ]
     },
     "execution_count": 5,
     "metadata": {},
     "output_type": "execute_result"
    }
   ],
   "source": [
    "# s3 csv -> pyspark dataframe\n",
    "Nov_df = spark.read.format(\"csv\").option(\"header\",True).load(csv_path)\n",
    "\n",
    "Nov_df.show()\n",
    "\n",
    "type(Nov_df)"
   ]
  },
  {
   "cell_type": "code",
   "execution_count": 6,
   "metadata": {},
   "outputs": [],
   "source": [
    "Nov_df = Nov_df.withColumn(\"event_time\", F.to_timestamp(F.col(\"event_time\")))"
   ]
  },
  {
   "cell_type": "code",
   "execution_count": 7,
   "metadata": {},
   "outputs": [
    {
     "name": "stdout",
     "output_type": "stream",
     "text": [
      "+-------------------+----------+----------+-------------------+--------------------+--------+------+---------+--------------------+\n",
      "|         event_time|event_type|product_id|        category_id|       category_code|   brand| price|  user_id|        user_session|\n",
      "+-------------------+----------+----------+-------------------+--------------------+--------+------+---------+--------------------+\n",
      "|2019-11-01 09:00:00|      view|   1003461|2053013555631882655|electronics.smart...|  xiaomi|489.07|520088904|4d3b30da-a5e4-49d...|\n",
      "|2019-11-01 09:00:00|      view|   5000088|2053013566100866035|appliances.sewing...|  janome|293.65|530496790|8e5f4f83-366c-4f7...|\n",
      "|2019-11-01 09:00:01|      view|  17302664|2053013553853497655|                NULL|   creed| 28.31|561587266|755422e7-9040-477...|\n",
      "|2019-11-01 09:00:01|      view|   3601530|2053013563810775923|appliances.kitche...|      lg|712.87|518085591|3bfb58cd-7892-48c...|\n",
      "|2019-11-01 09:00:01|      view|   1004775|2053013555631882655|electronics.smart...|  xiaomi|183.27|558856683|313628f1-68b8-460...|\n",
      "|2019-11-01 09:00:01|      view|   1306894|2053013558920217191|  computers.notebook|      hp|360.09|520772685|816a59f3-f5ae-4cc...|\n",
      "|2019-11-01 09:00:01|      view|   1306421|2053013558920217191|  computers.notebook|      hp|514.56|514028527|df8184cc-3694-454...|\n",
      "|2019-11-01 09:00:02|      view|  15900065|2053013558190408249|                NULL| rondell| 30.86|518574284|5e6ef132-4d7c-473...|\n",
      "|2019-11-01 09:00:02|      view|  12708937|2053013553559896355|                NULL|michelin| 72.72|532364121|0a899268-31eb-46d...|\n",
      "|2019-11-01 09:00:02|      view|   1004258|2053013555631882655|electronics.smart...|   apple|732.07|532647354|d2d3d2c6-631d-489...|\n",
      "|2019-11-01 09:00:03|      view|  17200570|2053013559792632471|furniture.living_...|    NULL|437.33|518780843|aa806835-b14c-45a...|\n",
      "|2019-11-01 09:00:03|      view|   2701517|2053013563911439225|appliances.kitche...|    NULL|155.11|518427361|c89b0d96-247f-404...|\n",
      "|2019-11-01 09:00:03|      view|  16700260|2053013559901684381|furniture.kitchen...|    NULL| 31.64|566255262|173d7b72-1db7-463...|\n",
      "|2019-11-01 09:00:04|      view|  34600011|2060981320581906480|                NULL|    NULL| 20.54|512416379|4dfe2c67-e537-4dc...|\n",
      "|2019-11-01 09:00:05|      view|   4600658|2053013563944993659|appliances.kitche...| samsung|411.83|526595547|aab33a9a-29c3-4d5...|\n",
      "|2019-11-01 09:00:06|      view|  24900193|2053013562183385881|                NULL|    NULL|  1.09|512651494|f603c815-f51a-46f...|\n",
      "|2019-11-01 09:00:07|      view|  27400066|2053013563391345499|                NULL|    NULL|  8.55|551061950|3f6112f1-5695-4e8...|\n",
      "|2019-11-01 09:00:07|      view|   5100503|2053013553375346967|                NULL|  xiaomi| 22.68|520037415|f54fa96a-f3f2-43a...|\n",
      "|2019-11-01 09:00:07|      view|   1004566|2053013555631882655|electronics.smart...|  huawei|164.84|566265908|52c2c76c-b79e-479...|\n",
      "|2019-11-01 09:00:08|      view|   1307115|2053013558920217191|  computers.notebook|      hp|411.59|514028527|df8184cc-3694-454...|\n",
      "+-------------------+----------+----------+-------------------+--------------------+--------+------+---------+--------------------+\n",
      "only showing top 20 rows\n",
      "\n"
     ]
    }
   ],
   "source": [
    "Nov_df.show()"
   ]
  },
  {
   "cell_type": "code",
   "execution_count": 10,
   "metadata": {},
   "outputs": [],
   "source": [
    "# Nov_df.write.format(\"delta\").save(\"s3a://donghee-s3-alldata/Nov_Data\")"
   ]
  },
  {
   "cell_type": "markdown",
   "metadata": {},
   "source": [
    "----"
   ]
  },
  {
   "cell_type": "code",
   "execution_count": 6,
   "metadata": {},
   "outputs": [],
   "source": [
    "# 해당 날짜만 추출\n",
    "table_path = \"s3a://donghee-s3-alldata/Nov_Data\""
   ]
  },
  {
   "cell_type": "code",
   "execution_count": 7,
   "metadata": {},
   "outputs": [
    {
     "name": "stderr",
     "output_type": "stream",
     "text": [
      "24/04/16 20:43:56 WARN HiveConf: HiveConf of name hive.stats.jdbc.timeout does not exist\n",
      "24/04/16 20:43:56 WARN HiveConf: HiveConf of name hive.stats.retries.wait does not exist\n",
      "24/04/16 20:44:00 WARN ObjectStore: Version information not found in metastore. hive.metastore.schema.verification is not enabled so recording the schema version 2.3.0\n",
      "24/04/16 20:44:00 WARN ObjectStore: setMetaStoreSchemaVersion called but recording version is disabled: version = 2.3.0, comment = Set by MetaStore donghee@127.0.1.1\n",
      "24/04/16 20:44:00 WARN ObjectStore: Failed to get database default, returning NoSuchObjectException\n",
      "24/04/16 20:44:00 WARN ObjectStore: Failed to get database global_temp, returning NoSuchObjectException\n",
      "24/04/16 20:44:00 WARN ObjectStore: Failed to get database delta, returning NoSuchObjectException\n",
      "24/04/16 20:44:02 WARN SparkStringUtils: Truncated the string representation of a plan since it was too large. This behavior can be adjusted by setting 'spark.sql.debug.maxToStringFields'.\n",
      "24/04/16 20:44:07 WARN ObjectStore: Failed to get database delta, returning NoSuchObjectException\n",
      "[Stage 22:===========================================>              (3 + 1) / 4]\r"
     ]
    },
    {
     "name": "stdout",
     "output_type": "stream",
     "text": [
      "+-------------------+----------+----------+-------------------+--------------------+--------+------+---------+--------------------+\n",
      "|         event_time|event_type|product_id|        category_id|       category_code|   brand| price|  user_id|        user_session|\n",
      "+-------------------+----------+----------+-------------------+--------------------+--------+------+---------+--------------------+\n",
      "|2019-11-01 09:00:00|      view|   1003461|2053013555631882655|electronics.smart...|  xiaomi|489.07|520088904|4d3b30da-a5e4-49d...|\n",
      "|2019-11-01 09:00:00|      view|   5000088|2053013566100866035|appliances.sewing...|  janome|293.65|530496790|8e5f4f83-366c-4f7...|\n",
      "|2019-11-01 09:00:01|      view|  17302664|2053013553853497655|                NULL|   creed| 28.31|561587266|755422e7-9040-477...|\n",
      "|2019-11-01 09:00:01|      view|   3601530|2053013563810775923|appliances.kitche...|      lg|712.87|518085591|3bfb58cd-7892-48c...|\n",
      "|2019-11-01 09:00:01|      view|   1004775|2053013555631882655|electronics.smart...|  xiaomi|183.27|558856683|313628f1-68b8-460...|\n",
      "|2019-11-01 09:00:01|      view|   1306894|2053013558920217191|  computers.notebook|      hp|360.09|520772685|816a59f3-f5ae-4cc...|\n",
      "|2019-11-01 09:00:01|      view|   1306421|2053013558920217191|  computers.notebook|      hp|514.56|514028527|df8184cc-3694-454...|\n",
      "|2019-11-01 09:00:02|      view|  15900065|2053013558190408249|                NULL| rondell| 30.86|518574284|5e6ef132-4d7c-473...|\n",
      "|2019-11-01 09:00:02|      view|  12708937|2053013553559896355|                NULL|michelin| 72.72|532364121|0a899268-31eb-46d...|\n",
      "|2019-11-01 09:00:02|      view|   1004258|2053013555631882655|electronics.smart...|   apple|732.07|532647354|d2d3d2c6-631d-489...|\n",
      "|2019-11-01 09:00:03|      view|  17200570|2053013559792632471|furniture.living_...|    NULL|437.33|518780843|aa806835-b14c-45a...|\n",
      "|2019-11-01 09:00:03|      view|   2701517|2053013563911439225|appliances.kitche...|    NULL|155.11|518427361|c89b0d96-247f-404...|\n",
      "|2019-11-01 09:00:03|      view|  16700260|2053013559901684381|furniture.kitchen...|    NULL| 31.64|566255262|173d7b72-1db7-463...|\n",
      "|2019-11-01 09:00:04|      view|  34600011|2060981320581906480|                NULL|    NULL| 20.54|512416379|4dfe2c67-e537-4dc...|\n",
      "|2019-11-01 09:00:05|      view|   4600658|2053013563944993659|appliances.kitche...| samsung|411.83|526595547|aab33a9a-29c3-4d5...|\n",
      "|2019-11-01 09:00:06|      view|  24900193|2053013562183385881|                NULL|    NULL|  1.09|512651494|f603c815-f51a-46f...|\n",
      "|2019-11-01 09:00:07|      view|  27400066|2053013563391345499|                NULL|    NULL|  8.55|551061950|3f6112f1-5695-4e8...|\n",
      "|2019-11-01 09:00:07|      view|   5100503|2053013553375346967|                NULL|  xiaomi| 22.68|520037415|f54fa96a-f3f2-43a...|\n",
      "|2019-11-01 09:00:07|      view|   1004566|2053013555631882655|electronics.smart...|  huawei|164.84|566265908|52c2c76c-b79e-479...|\n",
      "|2019-11-01 09:00:08|      view|   1307115|2053013558920217191|  computers.notebook|      hp|411.59|514028527|df8184cc-3694-454...|\n",
      "+-------------------+----------+----------+-------------------+--------------------+--------+------+---------+--------------------+\n",
      "only showing top 20 rows\n",
      "\n"
     ]
    },
    {
     "name": "stderr",
     "output_type": "stream",
     "text": [
      "                                                                                \r"
     ]
    }
   ],
   "source": [
    "# 가진 날짜들 추출\n",
    "date_list = spark.sql(F\"SELECT DISTINCT DATE(event_time) FROM delta.`{table_path}`\").sort(\"event_time\").collect()\n",
    "\n",
    "# 첫번째 날짜 확인\n",
    "df = spark.sql(F\"SELECT * FROM delta.`{table_path}` WHERE DATE(event_time) = '{date_list[0]['event_time']}'\")\n",
    "\n",
    "df.show()"
   ]
  },
  {
   "cell_type": "code",
   "execution_count": 14,
   "metadata": {},
   "outputs": [
    {
     "name": "stderr",
     "output_type": "stream",
     "text": [
      "24/04/15 20:34:25 WARN ObjectStore: Failed to get database delta, returning NoSuchObjectException\n"
     ]
    },
    {
     "name": "stdout",
     "output_type": "stream",
     "text": [
      "Row(event_time=datetime.date(2019, 11, 1))  count = 947011\n"
     ]
    },
    {
     "name": "stderr",
     "output_type": "stream",
     "text": [
      "24/04/15 20:34:26 WARN ObjectStore: Failed to get database delta, returning NoSuchObjectException\n"
     ]
    },
    {
     "name": "stdout",
     "output_type": "stream",
     "text": [
      "Row(event_time=datetime.date(2019, 11, 2))  count = 1521765\n"
     ]
    },
    {
     "name": "stderr",
     "output_type": "stream",
     "text": [
      "24/04/15 20:34:26 WARN ObjectStore: Failed to get database delta, returning NoSuchObjectException\n"
     ]
    },
    {
     "name": "stdout",
     "output_type": "stream",
     "text": [
      "Row(event_time=datetime.date(2019, 11, 3))  count = 1614142\n"
     ]
    },
    {
     "name": "stderr",
     "output_type": "stream",
     "text": [
      "24/04/15 20:34:27 WARN ObjectStore: Failed to get database delta, returning NoSuchObjectException\n"
     ]
    },
    {
     "name": "stdout",
     "output_type": "stream",
     "text": [
      "Row(event_time=datetime.date(2019, 11, 4))  count = 1660888\n"
     ]
    },
    {
     "name": "stderr",
     "output_type": "stream",
     "text": [
      "24/04/15 20:34:27 WARN ObjectStore: Failed to get database delta, returning NoSuchObjectException\n"
     ]
    },
    {
     "name": "stdout",
     "output_type": "stream",
     "text": [
      "Row(event_time=datetime.date(2019, 11, 5))  count = 1763634\n"
     ]
    },
    {
     "name": "stderr",
     "output_type": "stream",
     "text": [
      "24/04/15 20:34:28 WARN ObjectStore: Failed to get database delta, returning NoSuchObjectException\n"
     ]
    },
    {
     "name": "stdout",
     "output_type": "stream",
     "text": [
      "Row(event_time=datetime.date(2019, 11, 6))  count = 1674727\n"
     ]
    },
    {
     "name": "stderr",
     "output_type": "stream",
     "text": [
      "24/04/15 20:34:29 WARN ObjectStore: Failed to get database delta, returning NoSuchObjectException\n"
     ]
    },
    {
     "name": "stdout",
     "output_type": "stream",
     "text": [
      "Row(event_time=datetime.date(2019, 11, 7))  count = 1799204\n"
     ]
    },
    {
     "name": "stderr",
     "output_type": "stream",
     "text": [
      "24/04/15 20:34:29 WARN ObjectStore: Failed to get database delta, returning NoSuchObjectException\n"
     ]
    },
    {
     "name": "stdout",
     "output_type": "stream",
     "text": [
      "Row(event_time=datetime.date(2019, 11, 8))  count = 1844084\n"
     ]
    },
    {
     "name": "stderr",
     "output_type": "stream",
     "text": [
      "24/04/15 20:34:30 WARN ObjectStore: Failed to get database delta, returning NoSuchObjectException\n"
     ]
    },
    {
     "name": "stdout",
     "output_type": "stream",
     "text": [
      "Row(event_time=datetime.date(2019, 11, 9))  count = 1877083\n"
     ]
    },
    {
     "name": "stderr",
     "output_type": "stream",
     "text": [
      "24/04/15 20:34:31 WARN ObjectStore: Failed to get database delta, returning NoSuchObjectException\n"
     ]
    },
    {
     "name": "stdout",
     "output_type": "stream",
     "text": [
      "Row(event_time=datetime.date(2019, 11, 10))  count = 1928814\n"
     ]
    },
    {
     "name": "stderr",
     "output_type": "stream",
     "text": [
      "24/04/15 20:34:31 WARN ObjectStore: Failed to get database delta, returning NoSuchObjectException\n"
     ]
    },
    {
     "name": "stdout",
     "output_type": "stream",
     "text": [
      "Row(event_time=datetime.date(2019, 11, 11))  count = 1975134\n"
     ]
    },
    {
     "name": "stderr",
     "output_type": "stream",
     "text": [
      "24/04/15 20:34:32 WARN ObjectStore: Failed to get database delta, returning NoSuchObjectException\n"
     ]
    },
    {
     "name": "stdout",
     "output_type": "stream",
     "text": [
      "Row(event_time=datetime.date(2019, 11, 12))  count = 1994116\n"
     ]
    },
    {
     "name": "stderr",
     "output_type": "stream",
     "text": [
      "24/04/15 20:34:32 WARN ObjectStore: Failed to get database delta, returning NoSuchObjectException\n"
     ]
    },
    {
     "name": "stdout",
     "output_type": "stream",
     "text": [
      "Row(event_time=datetime.date(2019, 11, 13))  count = 1996102\n"
     ]
    },
    {
     "name": "stderr",
     "output_type": "stream",
     "text": [
      "24/04/15 20:34:33 WARN ObjectStore: Failed to get database delta, returning NoSuchObjectException\n"
     ]
    },
    {
     "name": "stdout",
     "output_type": "stream",
     "text": [
      "Row(event_time=datetime.date(2019, 11, 14))  count = 2297503\n"
     ]
    },
    {
     "name": "stderr",
     "output_type": "stream",
     "text": [
      "24/04/15 20:34:34 WARN ObjectStore: Failed to get database delta, returning NoSuchObjectException\n"
     ]
    },
    {
     "name": "stdout",
     "output_type": "stream",
     "text": [
      "Row(event_time=datetime.date(2019, 11, 15))  count = 5699415\n"
     ]
    },
    {
     "name": "stderr",
     "output_type": "stream",
     "text": [
      "24/04/15 20:34:34 WARN ObjectStore: Failed to get database delta, returning NoSuchObjectException\n"
     ]
    },
    {
     "name": "stdout",
     "output_type": "stream",
     "text": [
      "Row(event_time=datetime.date(2019, 11, 16))  count = 6604058\n"
     ]
    },
    {
     "name": "stderr",
     "output_type": "stream",
     "text": [
      "24/04/15 20:34:35 WARN ObjectStore: Failed to get database delta, returning NoSuchObjectException\n"
     ]
    },
    {
     "name": "stdout",
     "output_type": "stream",
     "text": [
      "Row(event_time=datetime.date(2019, 11, 17))  count = 6697509\n"
     ]
    },
    {
     "name": "stderr",
     "output_type": "stream",
     "text": [
      "24/04/15 20:34:36 WARN ObjectStore: Failed to get database delta, returning NoSuchObjectException\n"
     ]
    },
    {
     "name": "stdout",
     "output_type": "stream",
     "text": [
      "Row(event_time=datetime.date(2019, 11, 18))  count = 2990302\n"
     ]
    },
    {
     "name": "stderr",
     "output_type": "stream",
     "text": [
      "24/04/15 20:34:36 WARN ObjectStore: Failed to get database delta, returning NoSuchObjectException\n"
     ]
    },
    {
     "name": "stdout",
     "output_type": "stream",
     "text": [
      "Row(event_time=datetime.date(2019, 11, 19))  count = 1792291\n"
     ]
    },
    {
     "name": "stderr",
     "output_type": "stream",
     "text": [
      "24/04/15 20:34:37 WARN ObjectStore: Failed to get database delta, returning NoSuchObjectException\n"
     ]
    },
    {
     "name": "stdout",
     "output_type": "stream",
     "text": [
      "Row(event_time=datetime.date(2019, 11, 20))  count = 1707003\n"
     ]
    },
    {
     "name": "stderr",
     "output_type": "stream",
     "text": [
      "24/04/15 20:34:38 WARN ObjectStore: Failed to get database delta, returning NoSuchObjectException\n"
     ]
    },
    {
     "name": "stdout",
     "output_type": "stream",
     "text": [
      "Row(event_time=datetime.date(2019, 11, 21))  count = 1701409\n"
     ]
    },
    {
     "name": "stderr",
     "output_type": "stream",
     "text": [
      "24/04/15 20:34:38 WARN ObjectStore: Failed to get database delta, returning NoSuchObjectException\n"
     ]
    },
    {
     "name": "stdout",
     "output_type": "stream",
     "text": [
      "Row(event_time=datetime.date(2019, 11, 22))  count = 1582825\n"
     ]
    },
    {
     "name": "stderr",
     "output_type": "stream",
     "text": [
      "24/04/15 20:34:39 WARN ObjectStore: Failed to get database delta, returning NoSuchObjectException\n"
     ]
    },
    {
     "name": "stdout",
     "output_type": "stream",
     "text": [
      "Row(event_time=datetime.date(2019, 11, 23))  count = 1556342\n"
     ]
    },
    {
     "name": "stderr",
     "output_type": "stream",
     "text": [
      "24/04/15 20:34:39 WARN ObjectStore: Failed to get database delta, returning NoSuchObjectException\n"
     ]
    },
    {
     "name": "stdout",
     "output_type": "stream",
     "text": [
      "Row(event_time=datetime.date(2019, 11, 24))  count = 1593637\n"
     ]
    },
    {
     "name": "stderr",
     "output_type": "stream",
     "text": [
      "24/04/15 20:34:40 WARN ObjectStore: Failed to get database delta, returning NoSuchObjectException\n"
     ]
    },
    {
     "name": "stdout",
     "output_type": "stream",
     "text": [
      "Row(event_time=datetime.date(2019, 11, 25))  count = 1580112\n"
     ]
    },
    {
     "name": "stderr",
     "output_type": "stream",
     "text": [
      "24/04/15 20:34:41 WARN ObjectStore: Failed to get database delta, returning NoSuchObjectException\n"
     ]
    },
    {
     "name": "stdout",
     "output_type": "stream",
     "text": [
      "Row(event_time=datetime.date(2019, 11, 26))  count = 1661469\n"
     ]
    },
    {
     "name": "stderr",
     "output_type": "stream",
     "text": [
      "24/04/15 20:34:41 WARN ObjectStore: Failed to get database delta, returning NoSuchObjectException\n"
     ]
    },
    {
     "name": "stdout",
     "output_type": "stream",
     "text": [
      "Row(event_time=datetime.date(2019, 11, 27))  count = 1632655\n"
     ]
    },
    {
     "name": "stderr",
     "output_type": "stream",
     "text": [
      "24/04/15 20:34:42 WARN ObjectStore: Failed to get database delta, returning NoSuchObjectException\n"
     ]
    },
    {
     "name": "stdout",
     "output_type": "stream",
     "text": [
      "Row(event_time=datetime.date(2019, 11, 28))  count = 1610719\n"
     ]
    },
    {
     "name": "stderr",
     "output_type": "stream",
     "text": [
      "24/04/15 20:34:42 WARN ObjectStore: Failed to get database delta, returning NoSuchObjectException\n"
     ]
    },
    {
     "name": "stdout",
     "output_type": "stream",
     "text": [
      "Row(event_time=datetime.date(2019, 11, 29))  count = 1827111\n"
     ]
    },
    {
     "name": "stderr",
     "output_type": "stream",
     "text": [
      "24/04/15 20:34:43 WARN ObjectStore: Failed to get database delta, returning NoSuchObjectException\n"
     ]
    },
    {
     "name": "stdout",
     "output_type": "stream",
     "text": [
      "Row(event_time=datetime.date(2019, 11, 30))  count = 1782859\n"
     ]
    },
    {
     "name": "stderr",
     "output_type": "stream",
     "text": [
      "24/04/15 20:34:44 WARN ObjectStore: Failed to get database delta, returning NoSuchObjectException\n"
     ]
    },
    {
     "name": "stdout",
     "output_type": "stream",
     "text": [
      "Row(event_time=datetime.date(2019, 12, 1))  count = 588056\n"
     ]
    }
   ],
   "source": [
    "# 날짜별 행 데이터 개수 확인\n",
    "for i in date_list:\n",
    "    print(i, ' count =', spark.sql(F\"SELECT * FROM delta.`{table_path}` WHERE DATE(event_time) = '{i['event_time']}'\").count())"
   ]
  },
  {
   "cell_type": "code",
   "execution_count": 15,
   "metadata": {},
   "outputs": [
    {
     "name": "stdout",
     "output_type": "stream",
     "text": [
      "root\n",
      " |-- event_time: timestamp (nullable = true)\n",
      " |-- event_type: string (nullable = true)\n",
      " |-- product_id: string (nullable = true)\n",
      " |-- category_id: string (nullable = true)\n",
      " |-- category_code: string (nullable = true)\n",
      " |-- brand: string (nullable = true)\n",
      " |-- price: string (nullable = true)\n",
      " |-- user_id: string (nullable = true)\n",
      " |-- user_session: string (nullable = true)\n",
      "\n"
     ]
    },
    {
     "name": "stderr",
     "output_type": "stream",
     "text": [
      "24/04/15 20:34:47 WARN ObjectStore: Failed to get database delta, returning NoSuchObjectException\n"
     ]
    }
   ],
   "source": [
    "spark.sql(F\"SELECT * FROM delta.`{table_path}`\").printSchema()"
   ]
  },
  {
   "cell_type": "markdown",
   "metadata": {},
   "source": [
    "---\n",
    "# 테이블 만들기"
   ]
  },
  {
   "cell_type": "code",
   "execution_count": 8,
   "metadata": {},
   "outputs": [
    {
     "name": "stderr",
     "output_type": "stream",
     "text": [
      "24/04/16 20:44:45 WARN ObjectStore: Failed to get database delta, returning NoSuchObjectException\n"
     ]
    },
    {
     "data": {
      "text/plain": [
       "DataFrame[]"
      ]
     },
     "execution_count": 8,
     "metadata": {},
     "output_type": "execute_result"
    }
   ],
   "source": [
    "spark.sql(\n",
    "\"CREATE TABLE delta.`s3a://donghee-s3-alldata/Nov_Partition` (\\\n",
    "    event_time TIMESTAMP,\\\n",
    "    event_type STRING,\\\n",
    "    product_id STRING,\\\n",
    "    category_id STRING,\\\n",
    "    category_code STRING,\\\n",
    "    brand STRING,\\\n",
    "    price STRING,\\\n",
    "    user_id STRING,\\\n",
    "    user_session STRING,\\\n",
    "    date DATE\\\n",
    ") USING DELTA PARTITIONED BY (date)\"\n",
    ")"
   ]
  },
  {
   "cell_type": "code",
   "execution_count": 6,
   "metadata": {},
   "outputs": [],
   "source": [
    "# 해당 날짜만 추출\n",
    "Nov_partition = \"s3a://donghee-s3-alldata/Nov_Partition\""
   ]
  },
  {
   "cell_type": "code",
   "execution_count": 10,
   "metadata": {},
   "outputs": [
    {
     "name": "stderr",
     "output_type": "stream",
     "text": [
      "24/04/16 20:45:33 WARN ObjectStore: Failed to get database delta, returning NoSuchObjectException\n",
      "24/04/16 20:45:39 WARN ObjectStore: Failed to get database delta, returning NoSuchObjectException\n",
      "24/04/16 20:45:45 WARN ObjectStore: Failed to get database delta, returning NoSuchObjectException\n",
      "24/04/16 20:45:50 WARN ObjectStore: Failed to get database delta, returning NoSuchObjectException\n",
      "24/04/16 20:45:56 WARN ObjectStore: Failed to get database delta, returning NoSuchObjectException\n",
      "24/04/16 20:46:02 WARN ObjectStore: Failed to get database delta, returning NoSuchObjectException\n",
      "24/04/16 20:46:09 WARN ObjectStore: Failed to get database delta, returning NoSuchObjectException\n",
      "24/04/16 20:46:15 WARN ObjectStore: Failed to get database delta, returning NoSuchObjectException\n",
      "24/04/16 20:46:21 WARN ObjectStore: Failed to get database delta, returning NoSuchObjectException\n",
      "24/04/16 20:46:28 WARN ObjectStore: Failed to get database delta, returning NoSuchObjectException\n",
      "24/04/16 20:46:35 WARN ObjectStore: Failed to get database delta, returning NoSuchObjectException\n",
      "24/04/16 20:46:42 WARN ObjectStore: Failed to get database delta, returning NoSuchObjectException\n",
      "24/04/16 20:46:49 WARN ObjectStore: Failed to get database delta, returning NoSuchObjectException\n",
      "24/04/16 20:46:55 WARN ObjectStore: Failed to get database delta, returning NoSuchObjectException\n",
      "24/04/16 20:47:02 WARN ObjectStore: Failed to get database delta, returning NoSuchObjectException\n",
      "24/04/16 20:47:08 WARN ObjectStore: Failed to get database delta, returning NoSuchObjectException\n",
      "24/04/16 20:47:16 WARN ObjectStore: Failed to get database delta, returning NoSuchObjectException\n",
      "24/04/16 20:47:23 WARN ObjectStore: Failed to get database delta, returning NoSuchObjectException\n",
      "24/04/16 20:47:30 WARN ObjectStore: Failed to get database delta, returning NoSuchObjectException\n",
      "24/04/16 20:47:36 WARN ObjectStore: Failed to get database delta, returning NoSuchObjectException\n",
      "24/04/16 20:47:43 WARN ObjectStore: Failed to get database delta, returning NoSuchObjectException\n",
      "24/04/16 20:47:51 WARN ObjectStore: Failed to get database delta, returning NoSuchObjectException\n",
      "24/04/16 20:47:58 WARN ObjectStore: Failed to get database delta, returning NoSuchObjectException\n",
      "24/04/16 20:48:05 WARN ObjectStore: Failed to get database delta, returning NoSuchObjectException\n",
      "24/04/16 20:48:11 WARN ObjectStore: Failed to get database delta, returning NoSuchObjectException\n",
      "24/04/16 20:48:18 WARN ObjectStore: Failed to get database delta, returning NoSuchObjectException\n",
      "24/04/16 20:48:26 WARN ObjectStore: Failed to get database delta, returning NoSuchObjectException\n",
      "24/04/16 20:48:32 WARN ObjectStore: Failed to get database delta, returning NoSuchObjectException\n",
      "24/04/16 20:48:41 WARN ObjectStore: Failed to get database delta, returning NoSuchObjectException\n",
      "24/04/16 20:48:50 WARN ObjectStore: Failed to get database delta, returning NoSuchObjectException\n",
      "24/04/16 20:48:57 WARN ObjectStore: Failed to get database delta, returning NoSuchObjectException\n",
      "24/04/16 20:49:05 WARN ObjectStore: Failed to get database delta, returning NoSuchObjectException\n",
      "24/04/16 20:49:11 WARN ObjectStore: Failed to get database delta, returning NoSuchObjectException\n",
      "24/04/16 20:49:18 WARN ObjectStore: Failed to get database delta, returning NoSuchObjectException\n",
      "24/04/16 20:49:25 WARN ObjectStore: Failed to get database delta, returning NoSuchObjectException\n",
      "24/04/16 20:49:32 WARN ObjectStore: Failed to get database delta, returning NoSuchObjectException\n",
      "24/04/16 20:49:38 WARN ObjectStore: Failed to get database delta, returning NoSuchObjectException\n",
      "24/04/16 20:49:45 WARN ObjectStore: Failed to get database delta, returning NoSuchObjectException\n",
      "24/04/16 20:49:52 WARN ObjectStore: Failed to get database delta, returning NoSuchObjectException\n",
      "24/04/16 20:49:59 WARN ObjectStore: Failed to get database delta, returning NoSuchObjectException\n",
      "24/04/16 20:50:06 WARN ObjectStore: Failed to get database delta, returning NoSuchObjectException\n",
      "24/04/16 20:50:14 WARN ObjectStore: Failed to get database delta, returning NoSuchObjectException\n",
      "24/04/16 20:50:21 WARN ObjectStore: Failed to get database delta, returning NoSuchObjectException\n",
      "24/04/16 20:50:28 WARN ObjectStore: Failed to get database delta, returning NoSuchObjectException\n",
      "24/04/16 20:50:36 WARN ObjectStore: Failed to get database delta, returning NoSuchObjectException\n",
      "24/04/16 20:50:43 WARN ObjectStore: Failed to get database delta, returning NoSuchObjectException\n",
      "24/04/16 20:50:50 WARN ObjectStore: Failed to get database delta, returning NoSuchObjectException\n",
      "24/04/16 20:50:57 WARN ObjectStore: Failed to get database delta, returning NoSuchObjectException\n",
      "24/04/16 20:51:04 WARN ObjectStore: Failed to get database delta, returning NoSuchObjectException\n",
      "24/04/16 20:51:11 WARN ObjectStore: Failed to get database delta, returning NoSuchObjectException\n",
      "24/04/16 20:51:19 WARN ObjectStore: Failed to get database delta, returning NoSuchObjectException\n",
      "24/04/16 20:51:26 WARN ObjectStore: Failed to get database delta, returning NoSuchObjectException\n",
      "24/04/16 20:51:33 WARN ObjectStore: Failed to get database delta, returning NoSuchObjectException\n",
      "24/04/16 20:51:40 WARN ObjectStore: Failed to get database delta, returning NoSuchObjectException\n",
      "24/04/16 20:51:47 WARN ObjectStore: Failed to get database delta, returning NoSuchObjectException\n",
      "24/04/16 20:51:56 WARN ObjectStore: Failed to get database delta, returning NoSuchObjectException\n",
      "24/04/16 20:52:03 WARN ObjectStore: Failed to get database delta, returning NoSuchObjectException\n",
      "24/04/16 20:52:16 WARN ObjectStore: Failed to get database delta, returning NoSuchObjectException\n",
      "24/04/16 20:52:29 WARN ObjectStore: Failed to get database delta, returning NoSuchObjectException\n",
      "24/04/16 20:52:35 WARN ObjectStore: Failed to get database delta, returning NoSuchObjectException\n",
      "24/04/16 20:52:48 WARN ObjectStore: Failed to get database delta, returning NoSuchObjectException\n",
      "24/04/16 20:53:03 WARN ObjectStore: Failed to get database delta, returning NoSuchObjectException\n",
      "24/04/16 20:53:17 WARN ObjectStore: Failed to get database delta, returning NoSuchObjectException\n",
      "24/04/16 20:53:28 WARN ObjectStore: Failed to get database delta, returning NoSuchObjectException\n",
      "24/04/16 20:53:43 WARN ObjectStore: Failed to get database delta, returning NoSuchObjectException\n",
      "24/04/16 20:53:58 WARN ObjectStore: Failed to get database delta, returning NoSuchObjectException\n",
      "24/04/16 20:54:13 WARN ObjectStore: Failed to get database delta, returning NoSuchObjectException\n",
      "24/04/16 20:54:26 WARN ObjectStore: Failed to get database delta, returning NoSuchObjectException\n",
      "24/04/16 20:54:42 WARN ObjectStore: Failed to get database delta, returning NoSuchObjectException\n",
      "24/04/16 20:54:51 WARN ObjectStore: Failed to get database delta, returning NoSuchObjectException\n",
      "24/04/16 20:54:59 WARN ObjectStore: Failed to get database delta, returning NoSuchObjectException\n",
      "24/04/16 20:55:08 WARN ObjectStore: Failed to get database delta, returning NoSuchObjectException\n",
      "24/04/16 20:55:18 WARN ObjectStore: Failed to get database delta, returning NoSuchObjectException\n",
      "24/04/16 20:55:25 WARN ObjectStore: Failed to get database delta, returning NoSuchObjectException\n",
      "24/04/16 20:55:32 WARN ObjectStore: Failed to get database delta, returning NoSuchObjectException\n",
      "24/04/16 20:55:39 WARN ObjectStore: Failed to get database delta, returning NoSuchObjectException\n",
      "24/04/16 20:55:45 WARN ObjectStore: Failed to get database delta, returning NoSuchObjectException\n",
      "24/04/16 20:55:52 WARN ObjectStore: Failed to get database delta, returning NoSuchObjectException\n",
      "24/04/16 20:55:59 WARN ObjectStore: Failed to get database delta, returning NoSuchObjectException\n",
      "24/04/16 20:56:05 WARN ObjectStore: Failed to get database delta, returning NoSuchObjectException\n",
      "24/04/16 20:56:13 WARN ObjectStore: Failed to get database delta, returning NoSuchObjectException\n",
      "24/04/16 20:56:20 WARN ObjectStore: Failed to get database delta, returning NoSuchObjectException\n",
      "24/04/16 20:56:28 WARN ObjectStore: Failed to get database delta, returning NoSuchObjectException\n",
      "24/04/16 20:56:35 WARN ObjectStore: Failed to get database delta, returning NoSuchObjectException\n",
      "24/04/16 20:56:43 WARN ObjectStore: Failed to get database delta, returning NoSuchObjectException\n",
      "24/04/16 20:56:50 WARN ObjectStore: Failed to get database delta, returning NoSuchObjectException\n",
      "24/04/16 20:56:57 WARN ObjectStore: Failed to get database delta, returning NoSuchObjectException\n",
      "24/04/16 20:57:03 WARN ObjectStore: Failed to get database delta, returning NoSuchObjectException\n",
      "24/04/16 20:57:10 WARN ObjectStore: Failed to get database delta, returning NoSuchObjectException\n",
      "24/04/16 20:57:16 WARN ObjectStore: Failed to get database delta, returning NoSuchObjectException\n",
      "24/04/16 20:57:24 WARN ObjectStore: Failed to get database delta, returning NoSuchObjectException\n",
      "24/04/16 20:57:31 WARN ObjectStore: Failed to get database delta, returning NoSuchObjectException\n",
      "24/04/16 20:57:37 WARN ObjectStore: Failed to get database delta, returning NoSuchObjectException\n",
      "24/04/16 20:57:44 WARN ObjectStore: Failed to get database delta, returning NoSuchObjectException\n",
      "24/04/16 20:57:51 WARN ObjectStore: Failed to get database delta, returning NoSuchObjectException\n",
      "24/04/16 20:57:57 WARN ObjectStore: Failed to get database delta, returning NoSuchObjectException\n",
      "24/04/16 20:58:04 WARN ObjectStore: Failed to get database delta, returning NoSuchObjectException\n",
      "24/04/16 20:58:10 WARN ObjectStore: Failed to get database delta, returning NoSuchObjectException\n",
      "24/04/16 20:58:17 WARN ObjectStore: Failed to get database delta, returning NoSuchObjectException\n",
      "24/04/16 20:58:23 WARN ObjectStore: Failed to get database delta, returning NoSuchObjectException\n",
      "24/04/16 20:58:30 WARN ObjectStore: Failed to get database delta, returning NoSuchObjectException\n",
      "24/04/16 20:58:39 WARN ObjectStore: Failed to get database delta, returning NoSuchObjectException\n",
      "24/04/16 20:58:45 WARN ObjectStore: Failed to get database delta, returning NoSuchObjectException\n",
      "24/04/16 20:58:53 WARN ObjectStore: Failed to get database delta, returning NoSuchObjectException\n",
      "24/04/16 20:59:00 WARN ObjectStore: Failed to get database delta, returning NoSuchObjectException\n",
      "24/04/16 20:59:07 WARN ObjectStore: Failed to get database delta, returning NoSuchObjectException\n",
      "24/04/16 20:59:13 WARN ObjectStore: Failed to get database delta, returning NoSuchObjectException\n",
      "24/04/16 20:59:20 WARN ObjectStore: Failed to get database delta, returning NoSuchObjectException\n",
      "24/04/16 20:59:27 WARN ObjectStore: Failed to get database delta, returning NoSuchObjectException\n",
      "24/04/16 20:59:33 WARN ObjectStore: Failed to get database delta, returning NoSuchObjectException\n",
      "24/04/16 20:59:40 WARN ObjectStore: Failed to get database delta, returning NoSuchObjectException\n",
      "24/04/16 20:59:48 WARN ObjectStore: Failed to get database delta, returning NoSuchObjectException\n",
      "24/04/16 20:59:54 WARN ObjectStore: Failed to get database delta, returning NoSuchObjectException\n",
      "24/04/16 21:00:01 WARN ObjectStore: Failed to get database delta, returning NoSuchObjectException\n",
      "24/04/16 21:00:08 WARN ObjectStore: Failed to get database delta, returning NoSuchObjectException\n",
      "24/04/16 21:00:15 WARN ObjectStore: Failed to get database delta, returning NoSuchObjectException\n",
      "24/04/16 21:00:22 WARN ObjectStore: Failed to get database delta, returning NoSuchObjectException\n",
      "24/04/16 21:00:30 WARN ObjectStore: Failed to get database delta, returning NoSuchObjectException\n",
      "24/04/16 21:00:37 WARN ObjectStore: Failed to get database delta, returning NoSuchObjectException\n",
      "24/04/16 21:00:43 WARN ObjectStore: Failed to get database delta, returning NoSuchObjectException\n",
      "24/04/16 21:00:51 WARN ObjectStore: Failed to get database delta, returning NoSuchObjectException\n",
      "24/04/16 21:00:56 WARN ObjectStore: Failed to get database delta, returning NoSuchObjectException\n",
      "24/04/16 21:01:00 WARN ObjectStore: Failed to get database delta, returning NoSuchObjectException\n",
      "24/04/16 21:01:04 WARN ObjectStore: Failed to get database delta, returning NoSuchObjectException\n",
      "                                                                                \r"
     ]
    }
   ],
   "source": [
    "for i in date_list:\n",
    "    # 시스템 timestamp 수정...?\n",
    "    df = spark.sql(F\"SELECT * FROM delta.`{table_path}` WHERE DATE(event_time) = '{i['event_time']}'\").withColumn(\"date\", F.to_date(F.col(\"event_time\").cast(\"timestamp\")))\n",
    "\n",
    "    df.write.mode(\"append\")\\\n",
    "    .format(\"delta\")\\\n",
    "    .save(Nov_partition)\n",
    "\n",
    "    spark.sql(F\"UPDATE delta.`{Nov_partition}` SET event_type = 'VIEW' WHERE DATE(event_time) = '{i['event_time']}' AND event_type = 'view'\")\n",
    "    spark.sql(F\"UPDATE delta.`{Nov_partition}` SET event_type = 'PURCHASE' WHERE DATE(event_time) = '{i['event_time']}' AND event_type = 'purchase'\")\n",
    "    spark.sql(F\"UPDATE delta.`{Nov_partition}` SET event_type = 'CART' WHERE DATE(event_time) = '{i['event_time']}' AND event_type = 'cart'\")"
   ]
  },
  {
   "cell_type": "markdown",
   "metadata": {},
   "source": [
    "---\n",
    "# Nov Partition"
   ]
  },
  {
   "cell_type": "code",
   "execution_count": 5,
   "metadata": {},
   "outputs": [],
   "source": [
    "Partition_Compact_Table = \"s3a://donghee-s3-alldata/Nov_Partition_Compaction\""
   ]
  },
  {
   "cell_type": "code",
   "execution_count": 18,
   "metadata": {},
   "outputs": [
    {
     "name": "stderr",
     "output_type": "stream",
     "text": [
      "24/04/15 20:35:12 WARN ObjectStore: Failed to get database delta, returning NoSuchObjectException\n",
      "24/04/15 20:35:19 WARN ObjectStore: Failed to get database delta, returning NoSuchObjectException\n",
      "24/04/15 20:35:25 WARN ObjectStore: Failed to get database delta, returning NoSuchObjectException\n",
      "24/04/15 20:35:31 WARN ObjectStore: Failed to get database delta, returning NoSuchObjectException\n",
      "24/04/15 20:35:37 WARN ObjectStore: Failed to get database delta, returning NoSuchObjectException\n",
      "24/04/15 20:35:43 WARN ObjectStore: Failed to get database delta, returning NoSuchObjectException\n",
      "24/04/15 20:35:49 WARN ObjectStore: Failed to get database delta, returning NoSuchObjectException\n",
      "24/04/15 20:35:55 WARN ObjectStore: Failed to get database delta, returning NoSuchObjectException\n",
      "24/04/15 20:36:01 WARN ObjectStore: Failed to get database delta, returning NoSuchObjectException\n",
      "24/04/15 20:36:08 WARN ObjectStore: Failed to get database delta, returning NoSuchObjectException\n",
      "24/04/15 20:36:16 WARN ObjectStore: Failed to get database delta, returning NoSuchObjectException\n",
      "24/04/15 20:36:23 WARN ObjectStore: Failed to get database delta, returning NoSuchObjectException\n",
      "24/04/15 20:36:30 WARN ObjectStore: Failed to get database delta, returning NoSuchObjectException\n",
      "24/04/15 20:36:36 WARN ObjectStore: Failed to get database delta, returning NoSuchObjectException\n",
      "24/04/15 20:36:43 WARN ObjectStore: Failed to get database delta, returning NoSuchObjectException\n",
      "24/04/15 20:36:49 WARN ObjectStore: Failed to get database delta, returning NoSuchObjectException\n",
      "24/04/15 20:36:56 WARN ObjectStore: Failed to get database delta, returning NoSuchObjectException\n",
      "24/04/15 20:37:03 WARN ObjectStore: Failed to get database delta, returning NoSuchObjectException\n",
      "24/04/15 20:37:10 WARN ObjectStore: Failed to get database delta, returning NoSuchObjectException\n",
      "24/04/15 20:37:16 WARN ObjectStore: Failed to get database delta, returning NoSuchObjectException\n",
      "24/04/15 20:37:24 WARN ObjectStore: Failed to get database delta, returning NoSuchObjectException\n",
      "24/04/15 20:37:32 WARN ObjectStore: Failed to get database delta, returning NoSuchObjectException\n",
      "24/04/15 20:37:39 WARN ObjectStore: Failed to get database delta, returning NoSuchObjectException\n",
      "24/04/15 20:37:45 WARN ObjectStore: Failed to get database delta, returning NoSuchObjectException\n",
      "24/04/15 20:37:51 WARN ObjectStore: Failed to get database delta, returning NoSuchObjectException\n",
      "24/04/15 20:37:59 WARN ObjectStore: Failed to get database delta, returning NoSuchObjectException\n",
      "24/04/15 20:38:06 WARN ObjectStore: Failed to get database delta, returning NoSuchObjectException\n",
      "24/04/15 20:38:14 WARN ObjectStore: Failed to get database delta, returning NoSuchObjectException\n",
      "24/04/15 20:38:22 WARN ObjectStore: Failed to get database delta, returning NoSuchObjectException\n",
      "24/04/15 20:38:30 WARN ObjectStore: Failed to get database delta, returning NoSuchObjectException\n",
      "24/04/15 20:38:37 WARN ObjectStore: Failed to get database delta, returning NoSuchObjectException\n",
      "24/04/15 20:38:45 WARN ObjectStore: Failed to get database delta, returning NoSuchObjectException\n",
      "24/04/15 20:38:52 WARN ObjectStore: Failed to get database delta, returning NoSuchObjectException\n",
      "24/04/15 20:38:59 WARN ObjectStore: Failed to get database delta, returning NoSuchObjectException\n",
      "24/04/15 20:39:06 WARN ObjectStore: Failed to get database delta, returning NoSuchObjectException\n",
      "24/04/15 20:39:13 WARN ObjectStore: Failed to get database delta, returning NoSuchObjectException\n",
      "24/04/15 20:39:20 WARN ObjectStore: Failed to get database delta, returning NoSuchObjectException\n",
      "24/04/15 20:39:27 WARN ObjectStore: Failed to get database delta, returning NoSuchObjectException\n",
      "24/04/15 20:39:34 WARN ObjectStore: Failed to get database delta, returning NoSuchObjectException\n",
      "24/04/15 20:39:40 WARN ObjectStore: Failed to get database delta, returning NoSuchObjectException\n",
      "24/04/15 20:39:48 WARN ObjectStore: Failed to get database delta, returning NoSuchObjectException\n",
      "24/04/15 20:39:56 WARN ObjectStore: Failed to get database delta, returning NoSuchObjectException\n",
      "24/04/15 20:40:03 WARN ObjectStore: Failed to get database delta, returning NoSuchObjectException\n",
      "24/04/15 20:40:10 WARN ObjectStore: Failed to get database delta, returning NoSuchObjectException\n",
      "24/04/15 20:40:17 WARN ObjectStore: Failed to get database delta, returning NoSuchObjectException\n",
      "24/04/15 20:40:24 WARN ObjectStore: Failed to get database delta, returning NoSuchObjectException\n",
      "24/04/15 20:40:31 WARN ObjectStore: Failed to get database delta, returning NoSuchObjectException\n",
      "24/04/15 20:40:38 WARN ObjectStore: Failed to get database delta, returning NoSuchObjectException\n",
      "24/04/15 20:40:45 WARN ObjectStore: Failed to get database delta, returning NoSuchObjectException\n",
      "24/04/15 20:40:52 WARN ObjectStore: Failed to get database delta, returning NoSuchObjectException\n",
      "24/04/15 20:41:00 WARN ObjectStore: Failed to get database delta, returning NoSuchObjectException\n",
      "24/04/15 20:41:09 WARN ObjectStore: Failed to get database delta, returning NoSuchObjectException\n",
      "24/04/15 20:41:17 WARN ObjectStore: Failed to get database delta, returning NoSuchObjectException\n",
      "24/04/15 20:41:25 WARN ObjectStore: Failed to get database delta, returning NoSuchObjectException\n",
      "24/04/15 20:41:33 WARN ObjectStore: Failed to get database delta, returning NoSuchObjectException\n",
      "24/04/15 20:41:40 WARN ObjectStore: Failed to get database delta, returning NoSuchObjectException\n",
      "24/04/15 20:41:47 WARN ObjectStore: Failed to get database delta, returning NoSuchObjectException\n",
      "24/04/15 20:42:01 WARN ObjectStore: Failed to get database delta, returning NoSuchObjectException\n",
      "24/04/15 20:42:15 WARN ObjectStore: Failed to get database delta, returning NoSuchObjectException\n",
      "24/04/15 20:42:21 WARN ObjectStore: Failed to get database delta, returning NoSuchObjectException\n",
      "24/04/15 20:42:35 WARN ObjectStore: Failed to get database delta, returning NoSuchObjectException\n",
      "24/04/15 20:42:50 WARN ObjectStore: Failed to get database delta, returning NoSuchObjectException\n",
      "24/04/15 20:43:05 WARN ObjectStore: Failed to get database delta, returning NoSuchObjectException\n",
      "24/04/15 20:43:14 WARN ObjectStore: Failed to get database delta, returning NoSuchObjectException\n",
      "24/04/15 20:43:30 WARN ObjectStore: Failed to get database delta, returning NoSuchObjectException\n",
      "24/04/15 20:43:46 WARN ObjectStore: Failed to get database delta, returning NoSuchObjectException\n",
      "24/04/15 20:44:01 WARN ObjectStore: Failed to get database delta, returning NoSuchObjectException\n",
      "24/04/15 20:44:15 WARN ObjectStore: Failed to get database delta, returning NoSuchObjectException\n",
      "24/04/15 20:44:30 WARN ObjectStore: Failed to get database delta, returning NoSuchObjectException\n",
      "24/04/15 20:44:41 WARN ObjectStore: Failed to get database delta, returning NoSuchObjectException\n",
      "24/04/15 20:44:50 WARN ObjectStore: Failed to get database delta, returning NoSuchObjectException\n",
      "24/04/15 20:45:00 WARN ObjectStore: Failed to get database delta, returning NoSuchObjectException\n",
      "24/04/15 20:45:09 WARN ObjectStore: Failed to get database delta, returning NoSuchObjectException\n",
      "24/04/15 20:45:16 WARN ObjectStore: Failed to get database delta, returning NoSuchObjectException\n",
      "24/04/15 20:45:23 WARN ObjectStore: Failed to get database delta, returning NoSuchObjectException\n",
      "24/04/15 20:45:30 WARN ObjectStore: Failed to get database delta, returning NoSuchObjectException\n",
      "24/04/15 20:45:37 WARN ObjectStore: Failed to get database delta, returning NoSuchObjectException\n",
      "24/04/15 20:45:44 WARN ObjectStore: Failed to get database delta, returning NoSuchObjectException\n",
      "24/04/15 20:45:51 WARN ObjectStore: Failed to get database delta, returning NoSuchObjectException\n",
      "24/04/15 20:45:57 WARN ObjectStore: Failed to get database delta, returning NoSuchObjectException\n",
      "24/04/15 20:46:04 WARN ObjectStore: Failed to get database delta, returning NoSuchObjectException\n",
      "24/04/15 20:46:13 WARN ObjectStore: Failed to get database delta, returning NoSuchObjectException\n",
      "24/04/15 20:46:21 WARN ObjectStore: Failed to get database delta, returning NoSuchObjectException\n",
      "24/04/15 20:46:27 WARN ObjectStore: Failed to get database delta, returning NoSuchObjectException\n",
      "24/04/15 20:46:33 WARN ObjectStore: Failed to get database delta, returning NoSuchObjectException\n",
      "24/04/15 20:46:42 WARN ObjectStore: Failed to get database delta, returning NoSuchObjectException\n",
      "24/04/15 20:46:48 WARN ObjectStore: Failed to get database delta, returning NoSuchObjectException\n",
      "24/04/15 20:46:55 WARN ObjectStore: Failed to get database delta, returning NoSuchObjectException\n",
      "24/04/15 20:47:01 WARN ObjectStore: Failed to get database delta, returning NoSuchObjectException\n",
      "24/04/15 20:47:08 WARN ObjectStore: Failed to get database delta, returning NoSuchObjectException\n",
      "24/04/15 20:47:15 WARN ObjectStore: Failed to get database delta, returning NoSuchObjectException\n",
      "24/04/15 20:47:22 WARN ObjectStore: Failed to get database delta, returning NoSuchObjectException\n",
      "24/04/15 20:47:28 WARN ObjectStore: Failed to get database delta, returning NoSuchObjectException\n",
      "24/04/15 20:47:34 WARN ObjectStore: Failed to get database delta, returning NoSuchObjectException\n",
      "24/04/15 20:47:41 WARN ObjectStore: Failed to get database delta, returning NoSuchObjectException\n",
      "24/04/15 20:47:47 WARN ObjectStore: Failed to get database delta, returning NoSuchObjectException\n",
      "24/04/15 20:47:53 WARN ObjectStore: Failed to get database delta, returning NoSuchObjectException\n",
      "24/04/15 20:48:01 WARN ObjectStore: Failed to get database delta, returning NoSuchObjectException\n",
      "24/04/15 20:48:07 WARN ObjectStore: Failed to get database delta, returning NoSuchObjectException\n",
      "24/04/15 20:48:14 WARN ObjectStore: Failed to get database delta, returning NoSuchObjectException\n",
      "24/04/15 20:48:21 WARN ObjectStore: Failed to get database delta, returning NoSuchObjectException\n",
      "24/04/15 20:48:30 WARN ObjectStore: Failed to get database delta, returning NoSuchObjectException\n",
      "24/04/15 20:48:36 WARN ObjectStore: Failed to get database delta, returning NoSuchObjectException\n",
      "24/04/15 20:48:44 WARN ObjectStore: Failed to get database delta, returning NoSuchObjectException\n",
      "24/04/15 20:48:51 WARN ObjectStore: Failed to get database delta, returning NoSuchObjectException\n",
      "24/04/15 20:48:58 WARN ObjectStore: Failed to get database delta, returning NoSuchObjectException\n",
      "24/04/15 20:49:05 WARN ObjectStore: Failed to get database delta, returning NoSuchObjectException\n",
      "24/04/15 20:49:11 WARN ObjectStore: Failed to get database delta, returning NoSuchObjectException\n",
      "24/04/15 20:49:17 WARN ObjectStore: Failed to get database delta, returning NoSuchObjectException\n",
      "24/04/15 20:49:24 WARN ObjectStore: Failed to get database delta, returning NoSuchObjectException\n",
      "24/04/15 20:49:31 WARN ObjectStore: Failed to get database delta, returning NoSuchObjectException\n",
      "24/04/15 20:49:38 WARN ObjectStore: Failed to get database delta, returning NoSuchObjectException\n",
      "24/04/15 20:49:45 WARN ObjectStore: Failed to get database delta, returning NoSuchObjectException\n",
      "24/04/15 20:49:53 WARN ObjectStore: Failed to get database delta, returning NoSuchObjectException\n",
      "24/04/15 20:50:00 WARN ObjectStore: Failed to get database delta, returning NoSuchObjectException\n",
      "24/04/15 20:50:08 WARN ObjectStore: Failed to get database delta, returning NoSuchObjectException\n",
      "24/04/15 20:50:16 WARN ObjectStore: Failed to get database delta, returning NoSuchObjectException\n",
      "24/04/15 20:50:24 WARN ObjectStore: Failed to get database delta, returning NoSuchObjectException\n",
      "24/04/15 20:50:31 WARN ObjectStore: Failed to get database delta, returning NoSuchObjectException\n",
      "24/04/15 20:50:37 WARN ObjectStore: Failed to get database delta, returning NoSuchObjectException\n",
      "24/04/15 20:50:44 WARN ObjectStore: Failed to get database delta, returning NoSuchObjectException\n",
      "24/04/15 20:50:50 WARN ObjectStore: Failed to get database delta, returning NoSuchObjectException\n",
      "24/04/15 20:50:54 WARN ObjectStore: Failed to get database delta, returning NoSuchObjectException\n",
      "24/04/15 20:50:58 WARN ObjectStore: Failed to get database delta, returning NoSuchObjectException\n",
      "                                                                                \r"
     ]
    }
   ],
   "source": [
    "for i in date_list:\n",
    "    # 시스템 timestamp 수정...?\n",
    "    df = spark.sql(F\"SELECT * FROM delta.`{table_path}` WHERE DATE(event_time) = '{i['event_time']}'\").withColumn(\"date\", F.to_date(F.col(\"event_time\").cast(\"timestamp\")))\n",
    "\n",
    "    df.write.mode(\"append\")\\\n",
    "    .format(\"delta\")\\\n",
    "    .save(Partition_Compact_Table)\n",
    "\n",
    "    spark.sql(F\"UPDATE delta.`{Partition_Compact_Table}` SET event_type = 'VIEW' WHERE DATE(event_time) = '{i['event_time']}' AND event_type = 'view'\")\n",
    "    spark.sql(F\"UPDATE delta.`{Partition_Compact_Table}` SET event_type = 'PURCHASE' WHERE DATE(event_time) = '{i['event_time']}' AND event_type = 'purchase'\")\n",
    "    spark.sql(F\"UPDATE delta.`{Partition_Compact_Table}` SET event_type = 'CART' WHERE DATE(event_time) = '{i['event_time']}' AND event_type = 'cart'\")"
   ]
  },
  {
   "cell_type": "code",
   "execution_count": 26,
   "metadata": {},
   "outputs": [
    {
     "name": "stderr",
     "output_type": "stream",
     "text": [
      "24/04/16 20:25:34 WARN ObjectStore: Failed to get database delta, returning NoSuchObjectException\n",
      "[Stage 1221:================================================>       (6 + 1) / 7]\r"
     ]
    },
    {
     "name": "stdout",
     "output_type": "stream",
     "text": [
      "+-------------------+----------+----------+-------------------+--------------------+------------+-------+---------+--------------------+----------+\n",
      "|         event_time|event_type|product_id|        category_id|       category_code|       brand|  price|  user_id|        user_session|      date|\n",
      "+-------------------+----------+----------+-------------------+--------------------+------------+-------+---------+--------------------+----------+\n",
      "|2019-11-04 16:28:59|      VIEW|  32900143|2055156924407612189|     accessories.bag|    flambeau|  25.70|517005110|d25c3e55-2615-47c...|2019-11-04|\n",
      "|2019-11-04 16:28:59|      VIEW|   1004767|2053013555631882655|electronics.smart...|     samsung| 241.86|567196140|7349f7a1-e89a-417...|2019-11-04|\n",
      "|2019-11-04 16:28:59|      VIEW|   1802017|2053013554415534427|electronics.video.tv|          lg|1338.44|561121624|bee89ce0-6171-4f8...|2019-11-04|\n",
      "|2019-11-04 16:28:59|      VIEW|   3601605|2053013563810775923|appliances.kitche...|          lg| 372.22|567132842|f2eeb04a-c2ce-49c...|2019-11-04|\n",
      "|2019-11-04 16:28:59|      VIEW|   5300453|2053013563173241677|                NULL|     rowenta|  59.13|514737795|69d5044d-4026-47c...|2019-11-04|\n",
      "|2019-11-04 16:28:59|      VIEW|  28719242|2053013565639492569|       apparel.shoes|        NULL| 133.08|552613671|a5a8c2a4-5fc9-43f...|2019-11-04|\n",
      "|2019-11-04 16:28:59|      CART|   1002544|2053013555631882655|electronics.smart...|       apple| 458.15|513185460|f9533685-c9f6-44b...|2019-11-04|\n",
      "|2019-11-04 16:29:00|      VIEW|  15300183|2053013552662315243|                NULL|   transcend|  10.01|524039585|f33bf10a-7736-4ea...|2019-11-04|\n",
      "|2019-11-04 16:29:00|      VIEW|  13300562|2053013557166998015|                NULL|       sonel|  90.09|514713745|97789225-a4bc-4bb...|2019-11-04|\n",
      "|2019-11-04 16:29:00|      VIEW|   4800601|2053013554658804075|electronics.audio...|beyerdynamic|  45.05|522299134|4d63c43b-3aee-4a3...|2019-11-04|\n",
      "|2019-11-04 16:29:00|      VIEW|   1003525|2053013555631882655|electronics.smart...|     oneplus| 411.27|513117316|bd779165-3aa9-db4...|2019-11-04|\n",
      "|2019-11-04 16:29:00|      VIEW|   1305215|2053013558920217191|  computers.notebook|       apple|1209.55|567365453|16feab54-565c-466...|2019-11-04|\n",
      "|2019-11-04 16:29:00|      VIEW|  26401575|2053013563651392361|                NULL|        NULL| 268.99|567363825|206c1da8-db5a-45d...|2019-11-04|\n",
      "|2019-11-04 16:29:00|      VIEW|   5700518|2053013553970938175|auto.accessories....|        NULL| 131.28|535191761|c183dd1d-23c4-498...|2019-11-04|\n",
      "|2019-11-04 16:29:00|      VIEW|   4600416|2053013563944993659|appliances.kitche...|       bosch| 760.91|513611712|979a90d8-a5d1-459...|2019-11-04|\n",
      "|2019-11-04 16:29:00|      VIEW|   8800637|2053013555573162395|electronics.telep...|       nokia|  76.96|567364132|f315bd05-cadf-490...|2019-11-04|\n",
      "|2019-11-04 16:29:00|      VIEW|   1005100|2053013555631882655|electronics.smart...|     samsung| 138.93|516424573|ce5f7eac-cbc5-46b...|2019-11-04|\n",
      "|2019-11-04 16:29:00|      VIEW|   4803976|2053013554658804075|electronics.audio...|     samsung| 115.78|548383984|6ec2c994-0561-468...|2019-11-04|\n",
      "|2019-11-04 16:29:00|      VIEW|   1005073|2053013555631882655|electronics.smart...|     samsung|1132.31|512580106|fff85787-3746-4f9...|2019-11-04|\n",
      "|2019-11-04 16:29:00|      VIEW|   2501796|2053013564003713919|appliances.kitche...|       artel|  40.90|566394336|5e07e18b-428a-474...|2019-11-04|\n",
      "+-------------------+----------+----------+-------------------+--------------------+------------+-------+---------+--------------------+----------+\n",
      "only showing top 20 rows\n",
      "\n"
     ]
    },
    {
     "name": "stderr",
     "output_type": "stream",
     "text": [
      "                                                                                \r"
     ]
    }
   ],
   "source": [
    "spark.sql(F\"SELECT * FROM delta.`{Partition_Compact_Table}`\").show()"
   ]
  },
  {
   "cell_type": "code",
   "execution_count": 10,
   "metadata": {},
   "outputs": [
    {
     "name": "stderr",
     "output_type": "stream",
     "text": [
      "24/04/17 00:12:49 WARN ObjectStore: Failed to get database delta, returning NoSuchObjectException\n"
     ]
    },
    {
     "name": "stdout",
     "output_type": "stream",
     "text": [
      "+-------------------+----------+----------+-------------------+--------------------+---------+------+---------+--------------------+----------+\n",
      "|         event_time|event_type|product_id|        category_id|       category_code|    brand| price|  user_id|        user_session|      date|\n",
      "+-------------------+----------+----------+-------------------+--------------------+---------+------+---------+--------------------+----------+\n",
      "|2019-11-11 19:52:34|      VIEW|   1004739|2053013555631882655|electronics.smart...|   xiaomi|203.17|558999650|8305ef9e-7496-402...|2019-11-11|\n",
      "|2019-11-11 19:52:34|      VIEW|   5100816|2053013553375346967|                NULL|   xiaomi| 30.85|539233506|7354e964-adb4-6a5...|2019-11-11|\n",
      "|2019-11-11 19:52:34|      VIEW|  26205358|2053013563693335403|                NULL|     NULL|198.46|512815726|a606546a-283c-47e...|2019-11-11|\n",
      "|2019-11-11 19:52:34|      VIEW|   5301741|2053013563173241677|                NULL|    vitek| 16.19|523688455|8e0df0c3-cd14-451...|2019-11-11|\n",
      "|2019-11-11 19:52:34|      VIEW|  12711586|2053013553559896355|                NULL| triangle| 44.53|542468154|a1b10597-cae4-496...|2019-11-11|\n",
      "|2019-11-11 19:52:34|      VIEW|   1005239|2053013555631882655|electronics.smart...|   xiaomi|271.29|551144241|4d7f2fc5-7412-415...|2019-11-11|\n",
      "|2019-11-11 19:52:34|      VIEW|  21401651|2053013561579406073|  electronics.clocks|    casio| 67.70|516194812|410b41f7-a880-408...|2019-11-11|\n",
      "|2019-11-11 19:52:34|      VIEW|   1307531|2053013558920217191|  computers.notebook|   lenovo|848.67|519298103|3ebcdbd8-0943-464...|2019-11-11|\n",
      "|2019-11-11 19:52:34|      VIEW|   1005229|2053013555631882655|electronics.smart...|    honor|283.12|565673826|fd597ca4-ec7b-49a...|2019-11-11|\n",
      "|2019-11-11 19:52:34|      VIEW|  21404608|2053013561579406073|  electronics.clocks|     NULL|228.65|513099061|6383504b-fedb-45e...|2019-11-11|\n",
      "|2019-11-11 19:52:34|      VIEW|  10503613|2053013553199186187|                NULL|krasatoys| 47.11|535996364|1e00e916-4403-45c...|2019-11-11|\n",
      "|2019-11-11 19:52:34|      VIEW|   1801962|2053013554415534427|electronics.video.tv|  philips|205.90|518872536|4c641b4b-f60e-4e0...|2019-11-11|\n",
      "|2019-11-11 19:52:34|      VIEW|  31501002|2053013558031024687|                NULL|     NULL|100.13|570094706|d86d0186-6177-4db...|2019-11-11|\n",
      "|2019-11-11 19:52:34|      VIEW|   1004873|2053013555631882655|electronics.smart...|  samsung|352.45|570092621|c9a097eb-6875-402...|2019-11-11|\n",
      "|2019-11-11 19:52:34|      CART|   3700600|2053013565983425517|appliances.enviro...|    vitek| 51.43|554563415|26cd87a4-1ef8-419...|2019-11-11|\n",
      "|2019-11-11 19:52:34|      VIEW|   1307237|2053013558920217191|  computers.notebook|   lenovo|301.17|550177825|0e1b7c72-7968-4f7...|2019-11-11|\n",
      "|2019-11-11 19:52:34|      VIEW|   1801513|2053013554415534427|electronics.video.tv|    haier|463.05|570093353|9adaac9d-6fa0-4e3...|2019-11-11|\n",
      "|2019-11-11 19:52:35|      VIEW|  29502565|2053013566411243525|                NULL|     NULL| 28.19|537186761|6052f155-5dad-4d6...|2019-11-11|\n",
      "|2019-11-11 19:52:35|      VIEW|  10900043|2053013555069845885|appliances.kitche...|  maxwell| 14.16|521184040|86a5af20-b5e1-487...|2019-11-11|\n",
      "|2019-11-11 19:52:35|      VIEW|  12709556|2053013553559896355|                NULL|   viatti| 40.16|558864878|b968fc01-ed16-462...|2019-11-11|\n",
      "+-------------------+----------+----------+-------------------+--------------------+---------+------+---------+--------------------+----------+\n",
      "only showing top 20 rows\n",
      "\n"
     ]
    }
   ],
   "source": [
    "Nov_partition = \"s3a://donghee-s3-alldata/Nov_Partition\"\n",
    "\n",
    "spark.sql(F\"SELECT * FROM delta.`{Nov_partition}`\").show()"
   ]
  },
  {
   "cell_type": "markdown",
   "metadata": {},
   "source": [
    "---\n",
    "\n",
    "# Compaction Data"
   ]
  },
  {
   "cell_type": "code",
   "execution_count": 43,
   "metadata": {},
   "outputs": [
    {
     "name": "stderr",
     "output_type": "stream",
     "text": [
      "                                                                                \r"
     ]
    }
   ],
   "source": [
    "from delta import *\n",
    "\n",
    "deltaTable = DeltaTable.forPath(spark, Partition_Compact_Table)\n",
    "\n",
    "for i in date_list:\n",
    "    deltaTable.optimize().where(F\"date = '{i['event_time']}'\").executeCompaction()"
   ]
  },
  {
   "cell_type": "markdown",
   "metadata": {},
   "source": [
    "---\n",
    "# VACUUM TEST"
   ]
  },
  {
   "cell_type": "code",
   "execution_count": 13,
   "metadata": {},
   "outputs": [
    {
     "name": "stderr",
     "output_type": "stream",
     "text": [
      "24/04/16 21:05:01 WARN ObjectStore: Failed to get database delta, returning NoSuchObjectException\n",
      "                                                                                \r"
     ]
    },
    {
     "name": "stdout",
     "output_type": "stream",
     "text": [
      "Found 284 files (7503052942 bytes) and directories in a total of 32 directories that are safe to delete.\n"
     ]
    },
    {
     "name": "stderr",
     "output_type": "stream",
     "text": [
      "                                                                                \r"
     ]
    },
    {
     "data": {
      "text/plain": [
       "DataFrame[path: string]"
      ]
     },
     "execution_count": 13,
     "metadata": {},
     "output_type": "execute_result"
    }
   ],
   "source": [
    "# NOT COMPACTION -> VACUUM\n",
    "spark.sql(F\"VACUUM delta.`{Nov_partition}` RETAIN 0 HOURS DRY RUN\")"
   ]
  },
  {
   "cell_type": "code",
   "execution_count": null,
   "metadata": {},
   "outputs": [],
   "source": [
    "spark.sql(F\"VACUUM delta.`{Nov_partition}` RETAIN 0 HOURS\")"
   ]
  },
  {
   "cell_type": "code",
   "execution_count": 12,
   "metadata": {},
   "outputs": [
    {
     "name": "stderr",
     "output_type": "stream",
     "text": [
      "24/04/16 19:07:33 WARN ObjectStore: Failed to get database delta, returning NoSuchObjectException\n",
      "                                                                                \r"
     ]
    },
    {
     "name": "stdout",
     "output_type": "stream",
     "text": [
      "Found 381 files (10165354783 bytes) and directories in a total of 32 directories that are safe to delete.\n"
     ]
    },
    {
     "name": "stderr",
     "output_type": "stream",
     "text": [
      "                                                                                \r"
     ]
    },
    {
     "data": {
      "text/plain": [
       "DataFrame[path: string]"
      ]
     },
     "execution_count": 12,
     "metadata": {},
     "output_type": "execute_result"
    }
   ],
   "source": [
    "# COMPACTION -> VACUUM\n",
    "spark.sql(F\"VACUUM delta.`{Partition_Compact_Table}` RETAIN 0 HOURS DRY RUN\")"
   ]
  },
  {
   "cell_type": "code",
   "execution_count": 13,
   "metadata": {},
   "outputs": [
    {
     "name": "stderr",
     "output_type": "stream",
     "text": [
      "24/04/16 19:49:46 WARN ObjectStore: Failed to get database delta, returning NoSuchObjectException\n",
      "                                                                                \r"
     ]
    },
    {
     "name": "stdout",
     "output_type": "stream",
     "text": [
      "Deleted 381 files and directories in a total of 32 directories.\n"
     ]
    },
    {
     "data": {
      "text/plain": [
       "DataFrame[path: string]"
      ]
     },
     "execution_count": 13,
     "metadata": {},
     "output_type": "execute_result"
    }
   ],
   "source": [
    "spark.sql(F\"VACUUM delta.`{Partition_Compact_Table}` RETAIN 0 HOURS\")"
   ]
  },
  {
   "cell_type": "markdown",
   "metadata": {},
   "source": [
    "---\n",
    "# QUERY"
   ]
  },
  {
   "cell_type": "code",
   "execution_count": 15,
   "metadata": {},
   "outputs": [
    {
     "name": "stderr",
     "output_type": "stream",
     "text": [
      "24/04/17 00:13:57 WARN ObjectStore: Failed to get database delta, returning NoSuchObjectException\n",
      "[Stage 44:=====================================================>  (25 + 1) / 26]\r"
     ]
    },
    {
     "name": "stdout",
     "output_type": "stream",
     "text": [
      "+----------+----------+--------------------+\n",
      "|      date|event_type|          sum(price)|\n",
      "+----------+----------+--------------------+\n",
      "|2019-11-01|      CART|   5006892.930000016|\n",
      "|2019-11-01|  PURCHASE|   5301294.389999897|\n",
      "|2019-11-01|      VIEW|2.6649098207999858E8|\n",
      "|2019-11-02|      CART|   6591873.659999869|\n",
      "|2019-11-02|  PURCHASE|  6498311.9399999315|\n",
      "|2019-11-02|      VIEW|4.3119719518004555E8|\n",
      "|2019-11-03|      CART|   6711994.019999986|\n",
      "|2019-11-03|  PURCHASE|    6581772.13999999|\n",
      "|2019-11-03|      VIEW| 4.638097055400138E8|\n",
      "|2019-11-04|      CART|   7583235.520000016|\n",
      "|2019-11-04|  PURCHASE|   7658979.530000003|\n",
      "|2019-11-04|      VIEW|4.8062358463018155E8|\n",
      "|2019-11-05|      CART|   6970336.040000062|\n",
      "|2019-11-05|  PURCHASE|   7435775.660000044|\n",
      "|2019-11-05|      VIEW| 4.966589007000288E8|\n",
      "|2019-11-06|      CART|   6828105.470000026|\n",
      "|2019-11-06|  PURCHASE|   7421478.290000043|\n",
      "|2019-11-06|      VIEW| 4.688426716599125E8|\n",
      "|2019-11-07|      CART|   6899707.409999935|\n",
      "|2019-11-07|  PURCHASE|   7152724.329999998|\n",
      "+----------+----------+--------------------+\n",
      "only showing top 20 rows\n",
      "\n",
      "CPU times: user 11.2 ms, sys: 3.03 ms, total: 14.3 ms\n",
      "Wall time: 7.88 s\n"
     ]
    },
    {
     "name": "stderr",
     "output_type": "stream",
     "text": [
      "                                                                                \r"
     ]
    }
   ],
   "source": [
    "%%time\n",
    "\n",
    "# NOT COMPACTION NOT VACUUM\n",
    "spark.sql(F\"SELECT date, event_type, SUM(price) FROM delta.`{Nov_partition}` GROUP BY date, event_type ORDER BY date, event_type\").show()"
   ]
  },
  {
   "cell_type": "code",
   "execution_count": 16,
   "metadata": {},
   "outputs": [
    {
     "name": "stderr",
     "output_type": "stream",
     "text": [
      "24/04/17 00:14:10 WARN ObjectStore: Failed to get database delta, returning NoSuchObjectException\n",
      "[Stage 49:==================================================>     (27 + 3) / 30]\r"
     ]
    },
    {
     "name": "stdout",
     "output_type": "stream",
     "text": [
      "+----------+----------+--------------------+\n",
      "|      date|event_type|          sum(price)|\n",
      "+----------+----------+--------------------+\n",
      "|2019-11-01|      CART|   5006892.930000016|\n",
      "|2019-11-01|  PURCHASE|   5301294.389999897|\n",
      "|2019-11-01|      VIEW|2.6649098207999858E8|\n",
      "|2019-11-02|      CART|   6591873.659999801|\n",
      "|2019-11-02|  PURCHASE|   6498311.939999864|\n",
      "|2019-11-02|      VIEW| 4.311971951795948E8|\n",
      "|2019-11-03|      CART|   6711994.020000118|\n",
      "|2019-11-03|  PURCHASE|   6581772.140000085|\n",
      "|2019-11-03|      VIEW| 4.638097055401653E8|\n",
      "|2019-11-04|      CART|   7583235.520000072|\n",
      "|2019-11-04|  PURCHASE|   7658979.530000119|\n",
      "|2019-11-04|      VIEW|4.8062358463029426E8|\n",
      "|2019-11-05|      CART|  6970336.0399998585|\n",
      "|2019-11-05|  PURCHASE|   7435775.659999984|\n",
      "|2019-11-05|      VIEW| 4.966589007002334E8|\n",
      "|2019-11-06|      CART|   6828105.470000158|\n",
      "|2019-11-06|  PURCHASE|   7421478.290000171|\n",
      "|2019-11-06|      VIEW| 4.688426716602296E8|\n",
      "|2019-11-07|      CART|   6899707.410000093|\n",
      "|2019-11-07|  PURCHASE|   7152724.330000109|\n",
      "+----------+----------+--------------------+\n",
      "only showing top 20 rows\n",
      "\n",
      "CPU times: user 7.87 ms, sys: 4.86 ms, total: 12.7 ms\n",
      "Wall time: 4.63 s\n"
     ]
    },
    {
     "name": "stderr",
     "output_type": "stream",
     "text": [
      "                                                                                \r"
     ]
    }
   ],
   "source": [
    "%%time\n",
    "\n",
    "# COMPACTION VACUUM\n",
    "spark.sql(F\"SELECT date, event_type, SUM(price) FROM delta.`{Partition_Compact_Table}` GROUP BY date, event_type ORDER BY date, event_type\").show()"
   ]
  },
  {
   "cell_type": "code",
   "execution_count": 13,
   "metadata": {},
   "outputs": [
    {
     "name": "stderr",
     "output_type": "stream",
     "text": [
      "24/04/17 00:13:29 WARN ObjectStore: Failed to get database delta, returning NoSuchObjectException\n",
      "[Stage 36:====>                                                   (1 + 11) / 12]\r"
     ]
    },
    {
     "name": "stdout",
     "output_type": "stream",
     "text": [
      "+-------+-------------------+------+--------+---------+--------------------+----+--------+---------+-----------+-----------------+-------------+--------------------+------------+--------------------+\n",
      "|version|          timestamp|userId|userName|operation| operationParameters| job|notebook|clusterId|readVersion|   isolationLevel|isBlindAppend|    operationMetrics|userMetadata|          engineInfo|\n",
      "+-------+-------------------+------+--------+---------+--------------------+----+--------+---------+-----------+-----------------+-------------+--------------------+------------+--------------------+\n",
      "|    154|2024-04-16 17:46:15|  NULL|    NULL| OPTIMIZE|{predicate -> [\"(...|NULL|    NULL|     NULL|        153|SnapshotIsolation|        false|{numRemovedFiles ...|        NULL|Apache-Spark/3.5....|\n",
      "|    153|2024-04-16 17:46:10|  NULL|    NULL| OPTIMIZE|{predicate -> [\"(...|NULL|    NULL|     NULL|        152|SnapshotIsolation|        false|{numRemovedFiles ...|        NULL|Apache-Spark/3.5....|\n",
      "|    152|2024-04-16 17:46:00|  NULL|    NULL| OPTIMIZE|{predicate -> [\"(...|NULL|    NULL|     NULL|        151|SnapshotIsolation|        false|{numRemovedFiles ...|        NULL|Apache-Spark/3.5....|\n",
      "|    151|2024-04-16 17:45:49|  NULL|    NULL| OPTIMIZE|{predicate -> [\"(...|NULL|    NULL|     NULL|        150|SnapshotIsolation|        false|{numRemovedFiles ...|        NULL|Apache-Spark/3.5....|\n",
      "|    150|2024-04-16 17:45:38|  NULL|    NULL| OPTIMIZE|{predicate -> [\"(...|NULL|    NULL|     NULL|        149|SnapshotIsolation|        false|{numRemovedFiles ...|        NULL|Apache-Spark/3.5....|\n",
      "|    149|2024-04-16 17:45:28|  NULL|    NULL| OPTIMIZE|{predicate -> [\"(...|NULL|    NULL|     NULL|        148|SnapshotIsolation|        false|{numRemovedFiles ...|        NULL|Apache-Spark/3.5....|\n",
      "|    148|2024-04-16 17:45:18|  NULL|    NULL| OPTIMIZE|{predicate -> [\"(...|NULL|    NULL|     NULL|        147|SnapshotIsolation|        false|{numRemovedFiles ...|        NULL|Apache-Spark/3.5....|\n",
      "|    147|2024-04-16 17:45:09|  NULL|    NULL| OPTIMIZE|{predicate -> [\"(...|NULL|    NULL|     NULL|        146|SnapshotIsolation|        false|{numRemovedFiles ...|        NULL|Apache-Spark/3.5....|\n",
      "|    146|2024-04-16 17:44:59|  NULL|    NULL| OPTIMIZE|{predicate -> [\"(...|NULL|    NULL|     NULL|        145|SnapshotIsolation|        false|{numRemovedFiles ...|        NULL|Apache-Spark/3.5....|\n",
      "|    145|2024-04-16 17:44:50|  NULL|    NULL| OPTIMIZE|{predicate -> [\"(...|NULL|    NULL|     NULL|        144|SnapshotIsolation|        false|{numRemovedFiles ...|        NULL|Apache-Spark/3.5....|\n",
      "|    144|2024-04-16 17:44:41|  NULL|    NULL| OPTIMIZE|{predicate -> [\"(...|NULL|    NULL|     NULL|        143|SnapshotIsolation|        false|{numRemovedFiles ...|        NULL|Apache-Spark/3.5....|\n",
      "|    143|2024-04-16 17:44:31|  NULL|    NULL| OPTIMIZE|{predicate -> [\"(...|NULL|    NULL|     NULL|        142|SnapshotIsolation|        false|{numRemovedFiles ...|        NULL|Apache-Spark/3.5....|\n",
      "|    142|2024-04-16 17:44:20|  NULL|    NULL| OPTIMIZE|{predicate -> [\"(...|NULL|    NULL|     NULL|        141|SnapshotIsolation|        false|{numRemovedFiles ...|        NULL|Apache-Spark/3.5....|\n",
      "|    141|2024-04-16 17:44:10|  NULL|    NULL| OPTIMIZE|{predicate -> [\"(...|NULL|    NULL|     NULL|        140|SnapshotIsolation|        false|{numRemovedFiles ...|        NULL|Apache-Spark/3.5....|\n",
      "|    140|2024-04-16 17:43:51|  NULL|    NULL| OPTIMIZE|{predicate -> [\"(...|NULL|    NULL|     NULL|        139|SnapshotIsolation|        false|{numRemovedFiles ...|        NULL|Apache-Spark/3.5....|\n",
      "|    139|2024-04-16 17:43:21|  NULL|    NULL| OPTIMIZE|{predicate -> [\"(...|NULL|    NULL|     NULL|        138|SnapshotIsolation|        false|{numRemovedFiles ...|        NULL|Apache-Spark/3.5....|\n",
      "|    138|2024-04-16 17:42:51|  NULL|    NULL| OPTIMIZE|{predicate -> [\"(...|NULL|    NULL|     NULL|        137|SnapshotIsolation|        false|{numRemovedFiles ...|        NULL|Apache-Spark/3.5....|\n",
      "|    137|2024-04-16 17:42:23|  NULL|    NULL| OPTIMIZE|{predicate -> [\"(...|NULL|    NULL|     NULL|        136|SnapshotIsolation|        false|{numRemovedFiles ...|        NULL|Apache-Spark/3.5....|\n",
      "|    136|2024-04-16 17:42:10|  NULL|    NULL| OPTIMIZE|{predicate -> [\"(...|NULL|    NULL|     NULL|        135|SnapshotIsolation|        false|{numRemovedFiles ...|        NULL|Apache-Spark/3.5....|\n",
      "|    135|2024-04-16 17:41:59|  NULL|    NULL| OPTIMIZE|{predicate -> [\"(...|NULL|    NULL|     NULL|        134|SnapshotIsolation|        false|{numRemovedFiles ...|        NULL|Apache-Spark/3.5....|\n",
      "+-------+-------------------+------+--------+---------+--------------------+----+--------+---------+-----------+-----------------+-------------+--------------------+------------+--------------------+\n",
      "only showing top 20 rows\n",
      "\n"
     ]
    },
    {
     "name": "stderr",
     "output_type": "stream",
     "text": [
      "                                                                                \r"
     ]
    }
   ],
   "source": [
    "spark.sql(F\"DESCRIBE HISTORY delta.`{Partition_Compact_Table}`\").show()"
   ]
  }
 ],
 "metadata": {
  "kernelspec": {
   "display_name": "deltalakeenv",
   "language": "python",
   "name": "python3"
  },
  "language_info": {
   "codemirror_mode": {
    "name": "ipython",
    "version": 3
   },
   "file_extension": ".py",
   "mimetype": "text/x-python",
   "name": "python",
   "nbconvert_exporter": "python",
   "pygments_lexer": "ipython3",
   "version": "3.10.12"
  }
 },
 "nbformat": 4,
 "nbformat_minor": 2
}
