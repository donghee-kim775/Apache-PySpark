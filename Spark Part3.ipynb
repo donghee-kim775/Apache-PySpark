{
 "cells": [
  {
   "cell_type": "code",
   "execution_count": 27,
   "id": "5c5e646b",
   "metadata": {},
   "outputs": [],
   "source": [
    "from pyspark.sql import SparkSession\n",
    "test2 = \"C:/Users/Galaxy/Desktop/sparkdata/test2.csv\"\n",
    "\n",
    "spark = SparkSession.builder.appName('Practice').getOrCreate()"
   ]
  },
  {
   "cell_type": "code",
   "execution_count": 41,
   "id": "15589fdf",
   "metadata": {},
   "outputs": [],
   "source": [
    "df_pyspark = spark.read.csv(test2, header = True)"
   ]
  },
  {
   "cell_type": "code",
   "execution_count": 42,
   "id": "7ca62d76",
   "metadata": {},
   "outputs": [
    {
     "name": "stdout",
     "output_type": "stream",
     "text": [
      "+--------+----+----------+------+\n",
      "|    Name| age|Experience|Salary|\n",
      "+--------+----+----------+------+\n",
      "|   Krish|  31|        10| 30000|\n",
      "|Sudhansh|  30|         8| 25000|\n",
      "|   Sunny|  29|         4| 20000|\n",
      "|    Paul|  24|         3| 20000|\n",
      "|  Harsha|  21|         1| 15000|\n",
      "| Shubham|  23|         2| 18000|\n",
      "|  Mahesh|null|      null| 40000|\n",
      "|    null|  34|        10| 38000|\n",
      "|    null|  36|      null|  null|\n",
      "+--------+----+----------+------+\n",
      "\n"
     ]
    }
   ],
   "source": [
    "df_pyspark.show()"
   ]
  },
  {
   "cell_type": "code",
   "execution_count": 43,
   "id": "b6baffd5",
   "metadata": {},
   "outputs": [
    {
     "name": "stdout",
     "output_type": "stream",
     "text": [
      "+----+----------+------+\n",
      "| age|Experience|Salary|\n",
      "+----+----------+------+\n",
      "|  31|        10| 30000|\n",
      "|  30|         8| 25000|\n",
      "|  29|         4| 20000|\n",
      "|  24|         3| 20000|\n",
      "|  21|         1| 15000|\n",
      "|  23|         2| 18000|\n",
      "|null|      null| 40000|\n",
      "|  34|        10| 38000|\n",
      "|  36|      null|  null|\n",
      "+----+----------+------+\n",
      "\n"
     ]
    }
   ],
   "source": [
    "##drop the columns\n",
    "df_pyspark.drop('Name').show()"
   ]
  },
  {
   "cell_type": "code",
   "execution_count": 44,
   "id": "d19c93a5",
   "metadata": {},
   "outputs": [
    {
     "name": "stdout",
     "output_type": "stream",
     "text": [
      "+--------+---+----------+------+\n",
      "|    Name|age|Experience|Salary|\n",
      "+--------+---+----------+------+\n",
      "|   Krish| 31|        10| 30000|\n",
      "|Sudhansh| 30|         8| 25000|\n",
      "|   Sunny| 29|         4| 20000|\n",
      "|    Paul| 24|         3| 20000|\n",
      "|  Harsha| 21|         1| 15000|\n",
      "| Shubham| 23|         2| 18000|\n",
      "+--------+---+----------+------+\n",
      "\n"
     ]
    }
   ],
   "source": [
    "df_pyspark.na.drop().show()"
   ]
  },
  {
   "cell_type": "code",
   "execution_count": 45,
   "id": "9ecf8c34",
   "metadata": {},
   "outputs": [
    {
     "name": "stdout",
     "output_type": "stream",
     "text": [
      "+--------+----+----------+------+\n",
      "|    Name| age|Experience|Salary|\n",
      "+--------+----+----------+------+\n",
      "|   Krish|  31|        10| 30000|\n",
      "|Sudhansh|  30|         8| 25000|\n",
      "|   Sunny|  29|         4| 20000|\n",
      "|    Paul|  24|         3| 20000|\n",
      "|  Harsha|  21|         1| 15000|\n",
      "| Shubham|  23|         2| 18000|\n",
      "|  Mahesh|null|      null| 40000|\n",
      "|    null|  34|        10| 38000|\n",
      "|    null|  36|      null|  null|\n",
      "+--------+----+----------+------+\n",
      "\n",
      "+--------+---+----------+------+\n",
      "|    Name|age|Experience|Salary|\n",
      "+--------+---+----------+------+\n",
      "|   Krish| 31|        10| 30000|\n",
      "|Sudhansh| 30|         8| 25000|\n",
      "|   Sunny| 29|         4| 20000|\n",
      "|    Paul| 24|         3| 20000|\n",
      "|  Harsha| 21|         1| 15000|\n",
      "| Shubham| 23|         2| 18000|\n",
      "+--------+---+----------+------+\n",
      "\n"
     ]
    }
   ],
   "source": [
    "# how\n",
    "# all : 모든 칼럼 값이 NULL이거나 NaN인 경우에만 해당 행을 제거\n",
    "# any : 모든 행의 칼럼값 중 하나라도 NULL의 값을 가지면 해당 행을 제거\n",
    "df_pyspark.na.drop(how=\"all\").show()\n",
    "df_pyspark.na.drop(how=\"any\").show()"
   ]
  },
  {
   "cell_type": "code",
   "execution_count": 46,
   "id": "f09ca00a",
   "metadata": {},
   "outputs": [
    {
     "name": "stdout",
     "output_type": "stream",
     "text": [
      "+--------+----+----------+------+\n",
      "|    Name| age|Experience|Salary|\n",
      "+--------+----+----------+------+\n",
      "|   Krish|  31|        10| 30000|\n",
      "|Sudhansh|  30|         8| 25000|\n",
      "|   Sunny|  29|         4| 20000|\n",
      "|    Paul|  24|         3| 20000|\n",
      "|  Harsha|  21|         1| 15000|\n",
      "| Shubham|  23|         2| 18000|\n",
      "|  Mahesh|null|      null| 40000|\n",
      "|    null|  34|        10| 38000|\n",
      "|    null|  36|      null|  null|\n",
      "+--------+----+----------+------+\n",
      "\n"
     ]
    }
   ],
   "source": [
    "## threshold(임계값)\n",
    "## thresh = 2 na값이 두개보다 많으면 drop\n",
    "## 마지막 행 null| 36| null| null|이 drop된 것을 확인할 수 있다\n",
    "df_pyspark.na.drop(how=\"any\", thresh=1).show()"
   ]
  },
  {
   "cell_type": "code",
   "execution_count": 47,
   "id": "cc06a0e7",
   "metadata": {},
   "outputs": [
    {
     "name": "stdout",
     "output_type": "stream",
     "text": [
      "+--------+---+----------+------+\n",
      "|    Name|age|Experience|Salary|\n",
      "+--------+---+----------+------+\n",
      "|   Krish| 31|        10| 30000|\n",
      "|Sudhansh| 30|         8| 25000|\n",
      "|   Sunny| 29|         4| 20000|\n",
      "|    Paul| 24|         3| 20000|\n",
      "|  Harsha| 21|         1| 15000|\n",
      "| Shubham| 23|         2| 18000|\n",
      "|    null| 34|        10| 38000|\n",
      "|    null| 36|      null|  null|\n",
      "+--------+---+----------+------+\n",
      "\n"
     ]
    }
   ],
   "source": [
    "## Subset = ['해당 컬럼 명']\n",
    "## 해당 칼럼명을 기준으로 drop 실행\n",
    "df_pyspark.na.drop(how=\"any\", subset=['age']).show()"
   ]
  },
  {
   "cell_type": "code",
   "execution_count": 48,
   "id": "206910ff",
   "metadata": {},
   "outputs": [
    {
     "name": "stdout",
     "output_type": "stream",
     "text": [
      "+--------+----+----------+------+\n",
      "|    Name| age|Experience|Salary|\n",
      "+--------+----+----------+------+\n",
      "|   Krish|  31|        10| 30000|\n",
      "|Sudhansh|  30|         8| 25000|\n",
      "|   Sunny|  29|         4| 20000|\n",
      "|    Paul|  24|         3| 20000|\n",
      "|  Harsha|  21|         1| 15000|\n",
      "| Shubham|  23|         2| 18000|\n",
      "|  Mahesh|null|      null| 40000|\n",
      "|    null|  34|        10| 38000|\n",
      "|    null|  36|      null|  null|\n",
      "+--------+----+----------+------+\n",
      "\n"
     ]
    }
   ],
   "source": [
    "## Filling the Missing Value\n",
    "df_pyspark.na.fill(0).show()"
   ]
  },
  {
   "cell_type": "code",
   "execution_count": 54,
   "id": "508b60d0",
   "metadata": {},
   "outputs": [
    {
     "name": "stdout",
     "output_type": "stream",
     "text": [
      "+--------------+--------------+--------------+--------------+\n",
      "|          Name|           age|    Experience|        Salary|\n",
      "+--------------+--------------+--------------+--------------+\n",
      "|         Krish|            31|            10|         30000|\n",
      "|      Sudhansh|            30|             8|         25000|\n",
      "|         Sunny|            29|             4|         20000|\n",
      "|          Paul|            24|             3|         20000|\n",
      "|        Harsha|            21|             1|         15000|\n",
      "|       Shubham|            23|             2|         18000|\n",
      "|        Mahesh|Missing Values|Missing Values|         40000|\n",
      "|Missing Values|            34|            10|         38000|\n",
      "|Missing Values|            36|Missing Values|Missing Values|\n",
      "+--------------+--------------+--------------+--------------+\n",
      "\n",
      "+--------+----+--------------+------+\n",
      "|    Name| age|    Experience|Salary|\n",
      "+--------+----+--------------+------+\n",
      "|   Krish|  31|            10| 30000|\n",
      "|Sudhansh|  30|             8| 25000|\n",
      "|   Sunny|  29|             4| 20000|\n",
      "|    Paul|  24|             3| 20000|\n",
      "|  Harsha|  21|             1| 15000|\n",
      "| Shubham|  23|             2| 18000|\n",
      "|  Mahesh|null|Missing Values| 40000|\n",
      "|    null|  34|            10| 38000|\n",
      "|    null|  36|Missing Values|  null|\n",
      "+--------+----+--------------+------+\n",
      "\n",
      "+--------+--------------+--------------+------+\n",
      "|    Name|           age|    Experience|Salary|\n",
      "+--------+--------------+--------------+------+\n",
      "|   Krish|            31|            10| 30000|\n",
      "|Sudhansh|            30|             8| 25000|\n",
      "|   Sunny|            29|             4| 20000|\n",
      "|    Paul|            24|             3| 20000|\n",
      "|  Harsha|            21|             1| 15000|\n",
      "| Shubham|            23|             2| 18000|\n",
      "|  Mahesh|Missing Values|Missing Values| 40000|\n",
      "|    null|            34|            10| 38000|\n",
      "|    null|            36|Missing Values|  null|\n",
      "+--------+--------------+--------------+------+\n",
      "\n"
     ]
    }
   ],
   "source": [
    "## Filling the Missing Value\n",
    "df_pyspark.na.fill('Missing Values').show()\n",
    "df_pyspark.na.fill('Missing Values','Experience').show()\n",
    "df_pyspark.na.fill('Missing Values',['Experience', 'age']).show()"
   ]
  },
  {
   "cell_type": "code",
   "execution_count": 55,
   "id": "7cec49ec",
   "metadata": {},
   "outputs": [
    {
     "data": {
      "text/plain": [
       "DataFrame[Name: string, age: string, Experience: string, Salary: string]"
      ]
     },
     "execution_count": 55,
     "metadata": {},
     "output_type": "execute_result"
    }
   ],
   "source": [
    "df_pyspark"
   ]
  },
  {
   "cell_type": "code",
   "execution_count": 56,
   "id": "21a3e5d7",
   "metadata": {},
   "outputs": [
    {
     "name": "stdout",
     "output_type": "stream",
     "text": [
      "+--------+----+----------+------+\n",
      "|    Name| age|Experience|Salary|\n",
      "+--------+----+----------+------+\n",
      "|   Krish|  31|        10| 30000|\n",
      "|Sudhansh|  30|         8| 25000|\n",
      "|   Sunny|  29|         4| 20000|\n",
      "|    Paul|  24|         3| 20000|\n",
      "|  Harsha|  21|         1| 15000|\n",
      "| Shubham|  23|         2| 18000|\n",
      "|  Mahesh|null|      null| 40000|\n",
      "|    null|  34|        10| 38000|\n",
      "|    null|  36|      null|  null|\n",
      "+--------+----+----------+------+\n",
      "\n"
     ]
    }
   ],
   "source": [
    "df_pyspark.show()"
   ]
  },
  {
   "attachments": {
    "image.png": {
     "image/png": "[encoded data removed]"
    }
   },
   "cell_type": "markdown",
   "id": "1530a781",
   "metadata": {},
   "source": [
    "# Imputer?\n",
    "### PySparkML라이브러리에서 결측치 (imputation)을 다루기 위한 도구 중 하나\n",
    "\n",
    "1. inpuCols : 결측치를 대체할 대상 열의 이름\n",
    "2. outputCols : 대체된 결과를 저장할 열의 이름\n",
    "3. strategy : 결측치 대체 전략 (\"mean\", \"median\", \"mode\")\n",
    "4. fit(dataset) : 'Imputer' 모델을 데이터 셋에 적합시킴\n",
    "-> dataset : Pyspark 데이터 프레임\n",
    "\n",
    "5. transform(dataset) : 'fit'으로 학습된 'Imputer'모델을 사용하여 데이터셋에 대한 결측치 대체를 수행 / 대체된 결과는 새로운열에 저장\n",
    "\n",
    "![image.png](attachment:image.png)"
   ]
  },
  {
   "cell_type": "code",
   "execution_count": 68,
   "id": "4708434b",
   "metadata": {},
   "outputs": [],
   "source": [
    "# from pyspark.ml.feature import Imputer\n",
    "\n",
    "# Imputer 생성\n",
    "## imputer = Imputer(inputCols=[\"age\", \"experience\", \"salary\"],\n",
    "##                  outputCols=[\"imputed_age\", \"imputed_experience\", \"imputed_salary\"])\n",
    "## imputer.setStrategy(\"mean\")  # 결측치 대체 전략 설정\n",
    "\n",
    "# Imputer 모델 피팅\n",
    "## model = imputer.fit(df_pyspark)  # df_pyspark는 PySpark 데이터프레임입니다.\n",
    "\n",
    "# 결측치 대체 적용\n",
    "## imputed_df = model.transform(df_pyspark)\n",
    "\n",
    "# 결과 확인\n",
    "## imputed_df.show()"
   ]
  },
  {
   "cell_type": "code",
   "execution_count": 69,
   "id": "7e715031",
   "metadata": {},
   "outputs": [],
   "source": [
    "from pyspark.ml.feature import Imputer\n",
    "\n",
    "# age / Experience / Salary에 대해 평균 값을 설정할 것이기 때문에\n",
    "# 타입 변환 필수\n",
    "# 이전에 Missing Values할 때 처음에 inferschema를 쓰는 인식 영상처럼 다 바뀌지않아서 infer schema를 하지 않음\n",
    "# 방법 1 : 처음에 inferschema\n",
    "# 방법 2 : 하나하나 cast\n",
    "# 방법 1이 편하긴하지만 방법 2를 써봅시다.\n",
    "from pyspark.sql.functions import col\n",
    "df_pyspark = df_pyspark.withColumn('age', col('age').cast('integer'))\n",
    "df_pyspark = df_pyspark.withColumn('Experience', col('Experience').cast('integer'))\n",
    "df_pyspark = df_pyspark.withColumn('Salary', col('Salary').cast('integer'))\n",
    "\n",
    "imputer = Imputer(\n",
    "    inputCols = ['age', 'Experience', 'Salary'],\n",
    "    outputCols = [\"{}_imputed\".format(c) for c in ['age', 'Experience', 'Salary']]\n",
    ").setStrategy(\"mean\")"
   ]
  },
  {
   "cell_type": "code",
   "execution_count": 70,
   "id": "34319a19",
   "metadata": {},
   "outputs": [
    {
     "name": "stdout",
     "output_type": "stream",
     "text": [
      "+--------+----+----------+------+-----------+------------------+--------------+\n",
      "|    Name| age|Experience|Salary|age_imputed|Experience_imputed|Salary_imputed|\n",
      "+--------+----+----------+------+-----------+------------------+--------------+\n",
      "|   Krish|  31|        10| 30000|         31|                10|         30000|\n",
      "|Sudhansh|  30|         8| 25000|         30|                 8|         25000|\n",
      "|   Sunny|  29|         4| 20000|         29|                 4|         20000|\n",
      "|    Paul|  24|         3| 20000|         24|                 3|         20000|\n",
      "|  Harsha|  21|         1| 15000|         21|                 1|         15000|\n",
      "| Shubham|  23|         2| 18000|         23|                 2|         18000|\n",
      "|  Mahesh|null|      null| 40000|         28|                 5|         40000|\n",
      "|    null|  34|        10| 38000|         34|                10|         38000|\n",
      "|    null|  36|      null|  null|         36|                 5|         25750|\n",
      "+--------+----+----------+------+-----------+------------------+--------------+\n",
      "\n"
     ]
    }
   ],
   "source": [
    "imputer.fit(df_pyspark).transform(df_pyspark).show()"
   ]
  }
 ],
 "metadata": {
  "kernelspec": {
   "display_name": "Python 3",
   "language": "python",
   "name": "python3"
  },
  "language_info": {
   "codemirror_mode": {
    "name": "ipython",
    "version": 3
   },
   "file_extension": ".py",
   "mimetype": "text/x-python",
   "name": "python",
   "nbconvert_exporter": "python",
   "pygments_lexer": "ipython3",
   "version": "3.6.13"
  }
 },
 "nbformat": 4,
 "nbformat_minor": 5
}
