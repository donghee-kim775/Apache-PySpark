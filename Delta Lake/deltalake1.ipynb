{
 "cells": [
  {
   "cell_type": "code",
   "execution_count": 1,
   "metadata": {},
   "outputs": [],
   "source": [
    "import pyspark\n",
    "from delta import *"
   ]
  },
  {
   "cell_type": "code",
   "execution_count": 2,
   "metadata": {},
   "outputs": [
    {
     "name": "stderr",
     "output_type": "stream",
     "text": [
      "your 131072x1 screen size is bogus. expect trouble\n"
     ]
    },
    {
     "name": "stdout",
     "output_type": "stream",
     "text": [
      "24/02/01 23:58:20 WARN Utils: Your hostname, DESKTOP-JJQA3IT resolves to a loopback address: 127.0.1.1; using 172.25.190.30 instead (on interface eth0)\n",
      "24/02/01 23:58:20 WARN Utils: Set SPARK_LOCAL_IP if you need to bind to another address\n",
      ":: loading settings :: url = jar:file:/home/donghee/miniconda3/lib/python3.11/site-packages/pyspark/jars/ivy-2.5.1.jar!/org/apache/ivy/core/settings/ivysettings.xml\n"
     ]
    },
    {
     "name": "stderr",
     "output_type": "stream",
     "text": [
      "Ivy Default Cache set to: /home/donghee/.ivy2/cache\n",
      "The jars for the packages stored in: /home/donghee/.ivy2/jars\n",
      "io.delta#delta-core_2.12 added as a dependency\n",
      ":: resolving dependencies :: org.apache.spark#spark-submit-parent-b16d7c45-aab6-493d-92e2-d02a3bc11e06;1.0\n",
      "\tconfs: [default]\n",
      "\tfound io.delta#delta-core_2.12;2.2.0 in central\n",
      "\tfound io.delta#delta-storage;2.2.0 in central\n",
      "\tfound org.antlr#antlr4-runtime;4.8 in central\n",
      ":: resolution report :: resolve 246ms :: artifacts dl 3ms\n",
      "\t:: modules in use:\n",
      "\tio.delta#delta-core_2.12;2.2.0 from central in [default]\n",
      "\tio.delta#delta-storage;2.2.0 from central in [default]\n",
      "\torg.antlr#antlr4-runtime;4.8 from central in [default]\n",
      "\t---------------------------------------------------------------------\n",
      "\t|                  |            modules            ||   artifacts   |\n",
      "\t|       conf       | number| search|dwnlded|evicted|| number|dwnlded|\n",
      "\t---------------------------------------------------------------------\n",
      "\t|      default     |   3   |   0   |   0   |   0   ||   3   |   0   |\n",
      "\t---------------------------------------------------------------------\n",
      ":: retrieving :: org.apache.spark#spark-submit-parent-b16d7c45-aab6-493d-92e2-d02a3bc11e06\n",
      "\tconfs: [default]\n",
      "\t0 artifacts copied, 3 already retrieved (0kB/6ms)\n"
     ]
    },
    {
     "name": "stdout",
     "output_type": "stream",
     "text": [
      "24/02/01 23:58:23 WARN NativeCodeLoader: Unable to load native-hadoop library for your platform... using builtin-java classes where applicable\n"
     ]
    },
    {
     "name": "stderr",
     "output_type": "stream",
     "text": [
      "Setting default log level to \"WARN\".\n",
      "To adjust logging level use sc.setLogLevel(newLevel). For SparkR, use setLogLevel(newLevel).\n"
     ]
    }
   ],
   "source": [
    "builder = pyspark.sql.SparkSession.builder.appName(\"MyApp3\") \\\n",
    "    .config(\"spark.sql.extensions\", \"io.delta.sql.DeltaSparkSessionExtension\") \\\n",
    "    .config(\"spark.sql.catalog.spark_catalog\", \"org.apache.spark.sql.delta.catalog.DeltaCatalog\")\n",
    "\n",
    "spark = configure_spark_with_delta_pip(builder).getOrCreate()"
   ]
  },
  {
   "cell_type": "code",
   "execution_count": 3,
   "metadata": {},
   "outputs": [],
   "source": [
    "data_path = '/home/donghee/work/spark-3.5.0-bin-hadoop3/data/delta-table-create'"
   ]
  },
  {
   "cell_type": "markdown",
   "metadata": {},
   "source": [
    "# Create Table"
   ]
  },
  {
   "cell_type": "code",
   "execution_count": 4,
   "metadata": {},
   "outputs": [],
   "source": [
    "create_sql = \"CREATE TABLE IF NOT EXISTS delta.`/home/donghee/work/spark-3.5.0-bin-hadoop3/data/delta-table-create` ( \\\n",
    "\t`key` STRING, \\\n",
    "\t`value` STRING, \\\n",
    "\t`topic` STRING, \\\n",
    "\t`timestamp` TIMESTAMP, \\\n",
    "    `date` STRING \\\n",
    ") \\\n",
    "USING DELTA \\\n",
    "PARTITIONED BY (date) \\\n",
    "LOCATION '/home/donghee/work/spark-3.5.0-bin-hadoop3/data/delta-table-create' \\\n",
    "TBLPROPERTIES ( \\\n",
    "    'delta.compatibility.symlinkFormatManifest.enabled'='true' \\\n",
    ")\" "
   ]
  },
  {
   "cell_type": "code",
   "execution_count": 5,
   "metadata": {},
   "outputs": [
    {
     "name": "stdout",
     "output_type": "stream",
     "text": [
      "24/02/01 23:58:45 WARN package: Truncated the string representation of a plan since it was too large. This behavior can be adjusted by setting 'spark.sql.debug.maxToStringFields'.\n"
     ]
    },
    {
     "name": "stderr",
     "output_type": "stream",
     "text": [
      "                                                                                \r"
     ]
    }
   ],
   "source": [
    "spark_created_sql = spark.sql(create_sql)"
   ]
  },
  {
   "cell_type": "code",
   "execution_count": 6,
   "metadata": {},
   "outputs": [
    {
     "name": "stdout",
     "output_type": "stream",
     "text": [
      "+---+-----+-----+---------+----+\n",
      "|key|value|topic|timestamp|date|\n",
      "+---+-----+-----+---------+----+\n",
      "+---+-----+-----+---------+----+\n",
      "\n"
     ]
    }
   ],
   "source": [
    "df = spark.read.format(\"delta\").load(data_path)\n",
    "df.show()"
   ]
  },
  {
   "cell_type": "markdown",
   "metadata": {},
   "source": [
    "# Basic"
   ]
  },
  {
   "cell_type": "code",
   "execution_count": 7,
   "metadata": {},
   "outputs": [],
   "source": [
    "data_path = \"/home/donghee/work/spark-3.5.0-bin-hadoop3/data/delta-table-quickstart\"\n",
    "\n",
    "data = spark.range(0,5)"
   ]
  },
  {
   "cell_type": "markdown",
   "metadata": {},
   "source": [
    "#### Write Data"
   ]
  },
  {
   "cell_type": "code",
   "execution_count": 8,
   "metadata": {},
   "outputs": [
    {
     "data": {
      "text/plain": [
       "[Row(id=0), Row(id=1), Row(id=2), Row(id=3), Row(id=4)]"
      ]
     },
     "execution_count": 8,
     "metadata": {},
     "output_type": "execute_result"
    }
   ],
   "source": [
    "data = spark.range(0,5)\n",
    "data.collect()"
   ]
  },
  {
   "cell_type": "code",
   "execution_count": 9,
   "metadata": {},
   "outputs": [
    {
     "name": "stderr",
     "output_type": "stream",
     "text": [
      "                                                                                \r"
     ]
    }
   ],
   "source": [
    "data.write.format(\"delta\").save(data_path)"
   ]
  },
  {
   "cell_type": "markdown",
   "metadata": {},
   "source": [
    "#### Read Data"
   ]
  },
  {
   "cell_type": "code",
   "execution_count": 10,
   "metadata": {},
   "outputs": [
    {
     "name": "stdout",
     "output_type": "stream",
     "text": [
      "+---+\n",
      "| id|\n",
      "+---+\n",
      "|  2|\n",
      "|  4|\n",
      "|  0|\n",
      "|  3|\n",
      "|  1|\n",
      "+---+\n",
      "\n"
     ]
    }
   ],
   "source": [
    "df = spark.read.format(\"delta\").load(data_path)\n",
    "df.show()"
   ]
  },
  {
   "cell_type": "markdown",
   "metadata": {},
   "source": [
    "#### Update Data"
   ]
  },
  {
   "cell_type": "code",
   "execution_count": 11,
   "metadata": {},
   "outputs": [
    {
     "name": "stdout",
     "output_type": "stream",
     "text": [
      "+---+\n",
      "| id|\n",
      "+---+\n",
      "| 37|\n",
      "| 35|\n",
      "| 39|\n",
      "| 33|\n",
      "| 36|\n",
      "| 38|\n",
      "| 31|\n",
      "| 32|\n",
      "| 34|\n",
      "| 30|\n",
      "+---+\n",
      "\n"
     ]
    }
   ],
   "source": [
    "data = spark.range(30, 40)\n",
    "data.write.format(\"delta\").mode(\"overwrite\").save(data_path)\n",
    "\n",
    "read_df = spark.read.format(\"delta\").load(data_path)\n",
    "read_df.show()"
   ]
  },
  {
   "cell_type": "markdown",
   "metadata": {},
   "source": [
    "#### Time Travel\n",
    "- 데이터를 변경하면 자동으로 version이 생성\n",
    "- 데이터를 예전 버전으로 되돌리기 가능\n",
    "- 데이터의 보존 기간은 직접 수동을설정 가능\n",
    "- vaccum 명령어를 사용하며 명시적으로 오래된 버전의 데이터 영구 삭제 가능"
   ]
  },
  {
   "cell_type": "code",
   "execution_count": 12,
   "metadata": {},
   "outputs": [
    {
     "name": "stderr",
     "output_type": "stream",
     "text": [
      "                                                                                \r"
     ]
    }
   ],
   "source": [
    "data_path = \"/home/donghee/work/spark-3.5.0-bin-hadoop3/data/delta-table-timetravel\"\n",
    "\n",
    "data = spark.range(0,5)\n",
    "data.write.format(\"delta\").save(data_path)"
   ]
  },
  {
   "cell_type": "code",
   "execution_count": 13,
   "metadata": {},
   "outputs": [
    {
     "name": "stdout",
     "output_type": "stream",
     "text": [
      "latest_version >>>>>>>>>>>>>>>: [Row(max(version)=0)]\n"
     ]
    }
   ],
   "source": [
    "# History select\n",
    "history = spark.sql(\"DESCRIBE HISTORY delta.`/home/donghee/work/spark-3.5.0-bin-hadoop3/data/delta-table-timetravel`\")\n",
    "latest_version = history.selectExpr(\"max(version)\").collect()\n",
    "print(\"latest_version >>>>>>>>>>>>>>>: {}\".format(latest_version))"
   ]
  },
  {
   "cell_type": "markdown",
   "metadata": {},
   "source": [
    "###### Current Data"
   ]
  },
  {
   "cell_type": "code",
   "execution_count": 14,
   "metadata": {},
   "outputs": [
    {
     "name": "stdout",
     "output_type": "stream",
     "text": [
      "##### current #####\n",
      "+---+\n",
      "| id|\n",
      "+---+\n",
      "|  4|\n",
      "|  3|\n",
      "|  2|\n",
      "|  0|\n",
      "|  1|\n",
      "+---+\n",
      "\n",
      "##### version 0 #####\n",
      "+---+\n",
      "| id|\n",
      "+---+\n",
      "|  4|\n",
      "|  3|\n",
      "|  2|\n",
      "|  0|\n",
      "|  1|\n",
      "+---+\n",
      "\n"
     ]
    }
   ],
   "source": [
    "print(\"##### current #####\")\n",
    "df = spark.read.format(\"delta\").load(data_path)\n",
    "df.show()\n",
    "\n",
    "print(\"##### version 0 #####\")\n",
    "df0 = spark.read.format(\"delta\").option(\"versionAsOf\", 0).load(data_path)\n",
    "df0.show()"
   ]
  },
  {
   "cell_type": "markdown",
   "metadata": {},
   "source": [
    "###### Update Data"
   ]
  },
  {
   "cell_type": "code",
   "execution_count": 15,
   "metadata": {},
   "outputs": [
    {
     "name": "stdout",
     "output_type": "stream",
     "text": [
      "########### version 0 ###########\n",
      "+---+\n",
      "| id|\n",
      "+---+\n",
      "|  4|\n",
      "|  3|\n",
      "|  2|\n",
      "|  0|\n",
      "|  1|\n",
      "+---+\n",
      "\n",
      "########### current  version 1 ###########\n",
      "+---+\n",
      "| id|\n",
      "+---+\n",
      "| 31|\n",
      "| 32|\n",
      "| 35|\n",
      "| 34|\n",
      "| 39|\n",
      "| 37|\n",
      "| 33|\n",
      "| 38|\n",
      "| 36|\n",
      "| 30|\n",
      "+---+\n",
      "\n"
     ]
    }
   ],
   "source": [
    "data = spark.range(30, 40)\n",
    "data.write.format(\"delta\").mode(\"overwrite\").save(data_path)\n",
    "\n",
    "print(\"########### version 0 ###########\")\n",
    "updatedf = spark.read.format(\"delta\").option(\"versionAsOf\", 0).load(data_path)\n",
    "updatedf.show()\n",
    "\n",
    "print(\"########### current  version 1 ###########\")\n",
    "updatedf1 = spark.read.format(\"delta\").option(\"versionAsOf\", 1).load(data_path)\n",
    "updatedf1.show()"
   ]
  },
  {
   "cell_type": "code",
   "execution_count": 17,
   "metadata": {},
   "outputs": [
    {
     "name": "stdout",
     "output_type": "stream",
     "text": [
      "########### current ###########\n",
      "+---+\n",
      "| id|\n",
      "+---+\n",
      "| 31|\n",
      "| 32|\n",
      "| 35|\n",
      "| 34|\n",
      "| 39|\n",
      "| 37|\n",
      "| 33|\n",
      "| 38|\n",
      "| 36|\n",
      "| 30|\n",
      "+---+\n",
      "\n",
      "latest_version >>>>>>>>>>>>>>>: [Row(max(version)=1)]\n"
     ]
    }
   ],
   "source": [
    "print(\"########### current ###########\")\n",
    "df1 = spark.read.format(\"delta\").load(data_path)\n",
    "df1.show()\n",
    "\n",
    "history = spark.sql(\"DESCRIBE HISTORY delta.`/home/donghee/work/spark-3.5.0-bin-hadoop3/data/delta-table-timetravel`\")\n",
    "latest_version = history.selectExpr(\"max(version)\").collect()\n",
    "print(\"latest_version >>>>>>>>>>>>>>>: {}\".format(latest_version))"
   ]
  }
 ],
 "metadata": {
  "kernelspec": {
   "display_name": "base",
   "language": "python",
   "name": "python3"
  },
  "language_info": {
   "codemirror_mode": {
    "name": "ipython",
    "version": 3
   },
   "file_extension": ".py",
   "mimetype": "text/x-python",
   "name": "python",
   "nbconvert_exporter": "python",
   "pygments_lexer": "ipython3",
   "version": "3.11.4"
  }
 },
 "nbformat": 4,
 "nbformat_minor": 2
}
